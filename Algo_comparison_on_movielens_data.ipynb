{
 "cells": [
  {
   "cell_type": "code",
   "execution_count": 1,
   "metadata": {},
   "outputs": [],
   "source": [
    "#Importing necessary library\n",
    "import pandas as pd\n",
    "import numpy as np\n",
    "import surprise\n",
    "# Regression\n",
    "from sklearn.metrics import mean_squared_log_error,mean_squared_error, r2_score,mean_absolute_error \n",
    "\n",
    "\n",
    "import surprise\n",
    "from surprise import Reader, Dataset\n",
    "from surprise.model_selection import GridSearchCV\n",
    "from surprise.model_selection import cross_validate\n",
    "#Importing KNN,SVD,SVDpp,SlopeOne,NMF,Normalpresdictor,KNNBaseline,KNNBasic,KNNWithMeans,KNNWithZcore\n",
    "#,BaselineOnly , Coclustering, cross_validate algorithm from surprise library\n",
    "from surprise import KNNWithMeans\n",
    "from surprise import SVD\n",
    "from surprise import SVDpp\n",
    "from surprise import SlopeOne\n",
    "from surprise import NMF\n",
    "from surprise import NormalPredictor\n",
    "from surprise import KNNBaseline\n",
    "from surprise import KNNBasic\n",
    "from surprise import KNNWithMeans\n",
    "from surprise import KNNWithZScore\n",
    "from surprise import BaselineOnly\n",
    "from surprise import CoClustering"
   ]
  },
  {
   "cell_type": "code",
   "execution_count": 3,
   "metadata": {},
   "outputs": [
    {
     "data": {
      "text/html": [
       "<div>\n",
       "<style scoped>\n",
       "    .dataframe tbody tr th:only-of-type {\n",
       "        vertical-align: middle;\n",
       "    }\n",
       "\n",
       "    .dataframe tbody tr th {\n",
       "        vertical-align: top;\n",
       "    }\n",
       "\n",
       "    .dataframe thead th {\n",
       "        text-align: right;\n",
       "    }\n",
       "</style>\n",
       "<table border=\"1\" class=\"dataframe\">\n",
       "  <thead>\n",
       "    <tr style=\"text-align: right;\">\n",
       "      <th></th>\n",
       "      <th>userId</th>\n",
       "      <th>movieId</th>\n",
       "      <th>rating</th>\n",
       "      <th>timestamp</th>\n",
       "    </tr>\n",
       "  </thead>\n",
       "  <tbody>\n",
       "    <tr>\n",
       "      <th>0</th>\n",
       "      <td>1</td>\n",
       "      <td>1</td>\n",
       "      <td>4.0</td>\n",
       "      <td>964982703</td>\n",
       "    </tr>\n",
       "    <tr>\n",
       "      <th>1</th>\n",
       "      <td>1</td>\n",
       "      <td>3</td>\n",
       "      <td>4.0</td>\n",
       "      <td>964981247</td>\n",
       "    </tr>\n",
       "    <tr>\n",
       "      <th>2</th>\n",
       "      <td>1</td>\n",
       "      <td>6</td>\n",
       "      <td>4.0</td>\n",
       "      <td>964982224</td>\n",
       "    </tr>\n",
       "    <tr>\n",
       "      <th>3</th>\n",
       "      <td>1</td>\n",
       "      <td>47</td>\n",
       "      <td>5.0</td>\n",
       "      <td>964983815</td>\n",
       "    </tr>\n",
       "    <tr>\n",
       "      <th>4</th>\n",
       "      <td>1</td>\n",
       "      <td>50</td>\n",
       "      <td>5.0</td>\n",
       "      <td>964982931</td>\n",
       "    </tr>\n",
       "  </tbody>\n",
       "</table>\n",
       "</div>"
      ],
      "text/plain": [
       "   userId  movieId  rating  timestamp\n",
       "0       1        1     4.0  964982703\n",
       "1       1        3     4.0  964981247\n",
       "2       1        6     4.0  964982224\n",
       "3       1       47     5.0  964983815\n",
       "4       1       50     5.0  964982931"
      ]
     },
     "execution_count": 3,
     "metadata": {},
     "output_type": "execute_result"
    }
   ],
   "source": [
    "#PATH = '/D:/ml-latest-small'\n",
    "ratings = pd.read_csv('ratings.csv')\n",
    "ratings.head()"
   ]
  },
  {
   "cell_type": "code",
   "execution_count": 4,
   "metadata": {},
   "outputs": [
    {
     "data": {
      "text/plain": [
       "(100836, 4)"
      ]
     },
     "execution_count": 4,
     "metadata": {},
     "output_type": "execute_result"
    }
   ],
   "source": [
    "ratings.shape"
   ]
  },
  {
   "cell_type": "code",
   "execution_count": 5,
   "metadata": {},
   "outputs": [],
   "source": [
    "reader = Reader(rating_scale=(0.5, 5.0))\n",
    "\n",
    "data = Dataset.load_from_df( ratings[['userId', 'movieId', 'rating']], reader = reader )"
   ]
  },
  {
   "cell_type": "code",
   "execution_count": 12,
   "metadata": {},
   "outputs": [
    {
     "name": "stdout",
     "output_type": "stream",
     "text": [
      "Computing the msd similarity matrix...\n",
      "Done computing similarity matrix.\n",
      "Computing the msd similarity matrix...\n",
      "Done computing similarity matrix.\n",
      "Computing the msd similarity matrix...\n",
      "Done computing similarity matrix.\n",
      "Computing the msd similarity matrix...\n",
      "Done computing similarity matrix.\n",
      "Computing the msd similarity matrix...\n",
      "Done computing similarity matrix.\n",
      "Evaluating RMSE of algorithm KNNBasic on 5 split(s).\n",
      "\n",
      "                  Fold 1  Fold 2  Fold 3  Fold 4  Fold 5  Mean    Std     \n",
      "RMSE (testset)    0.9403  0.9373  0.9398  0.9399  0.9441  0.9403  0.0022  \n",
      "Fit time          0.56    1.19    0.61    1.32    1.01    0.94    0.31    \n",
      "Test time         5.08    4.42    4.12    4.24    3.62    4.29    0.47    \n"
     ]
    },
    {
     "data": {
      "text/plain": [
       "{'test_rmse': array([0.94034021, 0.93728636, 0.93976555, 0.93988053, 0.94405103]),\n",
       " 'fit_time': (0.5640161037445068,\n",
       "  1.1920406818389893,\n",
       "  0.6056103706359863,\n",
       "  1.3229789733886719,\n",
       "  1.0145349502563477),\n",
       " 'test_time': (5.077040433883667,\n",
       "  4.4187071323394775,\n",
       "  4.115272283554077,\n",
       "  4.240930080413818,\n",
       "  3.618703842163086)}"
      ]
     },
     "execution_count": 12,
     "metadata": {},
     "output_type": "execute_result"
    }
   ],
   "source": [
    "# Compute Mean Squared Distance Similarity\n",
    "sim_options = {'name' : 'msd'}\n",
    "\n",
    "algo = KNNBasic(k=20, sim_options=sim_options )\n",
    "cross_validate(algo=algo, data=data, measures=['RMSE'], cv=5, verbose=True)"
   ]
  },
  {
   "cell_type": "code",
   "execution_count": 13,
   "metadata": {},
   "outputs": [
    {
     "name": "stdout",
     "output_type": "stream",
     "text": [
      "Computing the msd similarity matrix...\n",
      "Done computing similarity matrix.\n",
      "Computing the msd similarity matrix...\n",
      "Done computing similarity matrix.\n",
      "Computing the msd similarity matrix...\n",
      "Done computing similarity matrix.\n",
      "Computing the msd similarity matrix...\n",
      "Done computing similarity matrix.\n",
      "Computing the msd similarity matrix...\n",
      "Done computing similarity matrix.\n",
      "Computing the msd similarity matrix...\n",
      "Done computing similarity matrix.\n",
      "Computing the msd similarity matrix...\n",
      "Done computing similarity matrix.\n",
      "Computing the msd similarity matrix...\n",
      "Done computing similarity matrix.\n",
      "Computing the msd similarity matrix...\n",
      "Done computing similarity matrix.\n",
      "Computing the msd similarity matrix...\n",
      "Done computing similarity matrix.\n",
      "Computing the msd similarity matrix...\n",
      "Done computing similarity matrix.\n",
      "Computing the msd similarity matrix...\n",
      "Done computing similarity matrix.\n",
      "Computing the msd similarity matrix...\n",
      "Done computing similarity matrix.\n",
      "Computing the msd similarity matrix...\n",
      "Done computing similarity matrix.\n",
      "Computing the msd similarity matrix...\n",
      "Done computing similarity matrix.\n",
      "\n",
      "\n",
      "###############\n",
      "Best Score : 0.9476117086294806\n",
      "Best Parameters : {'n_neighbours': 10}\n",
      "###############\n"
     ]
    }
   ],
   "source": [
    "n_neighbours = [10, 20, 30]\n",
    "param_grid = {'n_neighbours' : n_neighbours}\n",
    "\n",
    "gs = GridSearchCV(KNNBasic, measures=['RMSE'], param_grid=param_grid)\n",
    "gs.fit(data)\n",
    "\n",
    "print('\\n\\n###############')\n",
    "# Best RMSE score\n",
    "print('Best Score :', gs.best_score['rmse'])\n",
    "\n",
    "# Combination of parameters that gave the best RMSE score\n",
    "print('Best Parameters :', gs.best_params['rmse'])\n",
    "print('###############')"
   ]
  },
  {
   "cell_type": "markdown",
   "metadata": {},
   "source": [
    "**Algorithm - SVD**\n",
    "\n",
    "**RMSE   - 94.7%**\n",
    "\n"
   ]
  },
  {
   "cell_type": "code",
   "execution_count": 22,
   "metadata": {},
   "outputs": [],
   "source": [
    "#Importing KNN,SVD,SVDpp,SlopeOne,NMF,Normalpresdictor,KNNBaseline,KNNBasic,KNNWithMeans,KNNWithZcore\n",
    "#,BaselineOnly , Coclustering, cross_validate algorithm from surprise library\n",
    "from surprise import KNNWithMeans\n",
    "from surprise import SVDpp\n",
    "from surprise import SlopeOne\n",
    "from surprise import NMF\n",
    "from surprise import NormalPredictor\n",
    "from surprise import KNNBaseline\n",
    "from surprise import KNNBasic\n",
    "from surprise import KNNWithMeans\n",
    "from surprise import KNNWithZScore\n",
    "from surprise import BaselineOnly\n",
    "from surprise import CoClustering"
   ]
  },
  {
   "cell_type": "code",
   "execution_count": null,
   "metadata": {},
   "outputs": [],
   "source": [
    "# Use the famous SVD algorithm.\n",
    "algo = SVDpp()\n",
    "\n",
    "# Run 5-fold cross-validation and print results.\n",
    "cross_validate(algo, data, measures=['RMSE', 'MAE'], cv=5, verbose=True)"
   ]
  },
  {
   "cell_type": "code",
   "execution_count": 29,
   "metadata": {},
   "outputs": [
    {
     "name": "stdout",
     "output_type": "stream",
     "text": [
      "Evaluating RMSE, MAE of algorithm NMF on 5 split(s).\n",
      "\n",
      "                  Fold 1  Fold 2  Fold 3  Fold 4  Fold 5  Mean    Std     \n",
      "RMSE (testset)    0.9268  0.9163  0.9303  0.9201  0.9221  0.9231  0.0050  \n",
      "MAE (testset)     0.7091  0.7019  0.7137  0.7034  0.7066  0.7069  0.0042  \n",
      "Fit time          8.91    9.49    9.57    9.50    10.96   9.69    0.68    \n",
      "Test time         0.39    0.20    0.20    0.37    0.19    0.27    0.09    \n"
     ]
    },
    {
     "data": {
      "text/plain": [
       "{'test_rmse': array([0.92682825, 0.91629089, 0.93034508, 0.92007678, 0.92210623]),\n",
       " 'test_mae': array([0.70909646, 0.7019232 , 0.71372299, 0.70336696, 0.70663661]),\n",
       " 'fit_time': (8.905166864395142,\n",
       "  9.493345975875854,\n",
       "  9.574715614318848,\n",
       "  9.500578880310059,\n",
       "  10.964070796966553),\n",
       " 'test_time': (0.3906564712524414,\n",
       "  0.2031421661376953,\n",
       "  0.20314240455627441,\n",
       "  0.3700063228607178,\n",
       "  0.18751025199890137)}"
      ]
     },
     "execution_count": 29,
     "metadata": {},
     "output_type": "execute_result"
    }
   ],
   "source": [
    "# Use the famous NMF algorithm.\n",
    "algo = NMF()\n",
    "\n",
    "# Run 5-fold cross-validation and print results.\n",
    "cross_validate(algo, data, measures=['RMSE', 'MAE'], cv=5, verbose=True)"
   ]
  },
  {
   "cell_type": "markdown",
   "metadata": {},
   "source": [
    "**Algorithm - NMF**\n",
    "\n",
    "**RMSE  - 92.2%**\n",
    "\n",
    "**MAE   - 70.6%**"
   ]
  },
  {
   "cell_type": "code",
   "execution_count": 30,
   "metadata": {},
   "outputs": [
    {
     "name": "stdout",
     "output_type": "stream",
     "text": [
      "Evaluating RMSE, MAE of algorithm SlopeOne on 5 split(s).\n",
      "\n",
      "                  Fold 1  Fold 2  Fold 3  Fold 4  Fold 5  Mean    Std     \n",
      "RMSE (testset)    0.9014  0.9008  0.8973  0.9067  0.9041  0.9021  0.0032  \n",
      "MAE (testset)     0.6874  0.6867  0.6875  0.6925  0.6893  0.6887  0.0021  \n",
      "Fit time          15.89   18.23   26.22   12.80   11.32   16.89   5.25    \n",
      "Test time         20.60   10.54   26.73   10.80   10.20   15.78   6.73    \n"
     ]
    },
    {
     "data": {
      "text/plain": [
       "{'test_rmse': array([0.90140131, 0.90084428, 0.89728843, 0.90672883, 0.90407101]),\n",
       " 'test_mae': array([0.68740861, 0.68669564, 0.68747035, 0.6924672 , 0.68934174]),\n",
       " 'fit_time': (15.889928102493286,\n",
       "  18.22746992111206,\n",
       "  26.223195552825928,\n",
       "  12.801930665969849,\n",
       "  11.315467834472656),\n",
       " 'test_time': (20.6049964427948,\n",
       "  10.536170959472656,\n",
       "  26.72831392288208,\n",
       "  10.802065134048462,\n",
       "  10.204725503921509)}"
      ]
     },
     "execution_count": 30,
     "metadata": {},
     "output_type": "execute_result"
    }
   ],
   "source": [
    "# Use the famous slopeone algorithm.\n",
    "algo =SlopeOne()\n",
    "\n",
    "# Run 5-fold cross-validation and print results.\n",
    "cross_validate(algo, data, measures=['RMSE', 'MAE'], cv=5, verbose=True)"
   ]
  },
  {
   "cell_type": "markdown",
   "metadata": {},
   "source": [
    "**ALgorithm - SlopeOne**\n",
    "\n",
    "**RMSE   - 90.4%**\n",
    "\n",
    "**MAE   - 69%**\n"
   ]
  },
  {
   "cell_type": "code",
   "execution_count": 31,
   "metadata": {},
   "outputs": [
    {
     "name": "stdout",
     "output_type": "stream",
     "text": [
      "Estimating biases using als...\n",
      "Computing the msd similarity matrix...\n",
      "Done computing similarity matrix.\n",
      "Estimating biases using als...\n",
      "Computing the msd similarity matrix...\n",
      "Done computing similarity matrix.\n",
      "Estimating biases using als...\n",
      "Computing the msd similarity matrix...\n",
      "Done computing similarity matrix.\n",
      "Estimating biases using als...\n",
      "Computing the msd similarity matrix...\n",
      "Done computing similarity matrix.\n",
      "Estimating biases using als...\n",
      "Computing the msd similarity matrix...\n",
      "Done computing similarity matrix.\n",
      "Evaluating RMSE, MAE of algorithm KNNBaseline on 5 split(s).\n",
      "\n",
      "                  Fold 1  Fold 2  Fold 3  Fold 4  Fold 5  Mean    Std     \n",
      "RMSE (testset)    0.8757  0.8833  0.8713  0.8775  0.8730  0.8762  0.0041  \n",
      "MAE (testset)     0.6685  0.6746  0.6669  0.6688  0.6677  0.6693  0.0027  \n",
      "Fit time          1.30    0.79    0.83    0.83    1.18    0.99    0.21    \n",
      "Test time         3.14    3.02    3.54    3.44    3.40    3.31    0.19    \n"
     ]
    },
    {
     "data": {
      "text/plain": [
       "{'test_rmse': array([0.87571076, 0.88327574, 0.87131094, 0.87746247, 0.87299195]),\n",
       " 'test_mae': array([0.66846816, 0.67456718, 0.66691935, 0.66882331, 0.66768959]),\n",
       " 'fit_time': (1.302616834640503,\n",
       "  0.7854979038238525,\n",
       "  0.8338661193847656,\n",
       "  0.827587366104126,\n",
       "  1.1822788715362549),\n",
       " 'test_time': (3.1425230503082275,\n",
       "  3.019932270050049,\n",
       "  3.5360944271087646,\n",
       "  3.4441494941711426,\n",
       "  3.4031646251678467)}"
      ]
     },
     "execution_count": 31,
     "metadata": {},
     "output_type": "execute_result"
    }
   ],
   "source": [
    "# Use the famous KNNbaseline algorithm.\n",
    "algo = KNNBaseline()\n",
    "\n",
    "# Run 5-fold cross-validation and print results.\n",
    "cross_validate(algo, data, measures=['RMSE', 'MAE'], cv=5, verbose=True)"
   ]
  },
  {
   "cell_type": "markdown",
   "metadata": {},
   "source": [
    "**Algorithm - KNNBaseline**\n",
    "\n",
    "**RMSE  - 87.3%**\n",
    "\n",
    "**MAE   - 66.7%**\n",
    "\n"
   ]
  },
  {
   "cell_type": "code",
   "execution_count": 32,
   "metadata": {},
   "outputs": [
    {
     "name": "stdout",
     "output_type": "stream",
     "text": [
      "Computing the msd similarity matrix...\n",
      "Done computing similarity matrix.\n",
      "Computing the msd similarity matrix...\n",
      "Done computing similarity matrix.\n",
      "Computing the msd similarity matrix...\n",
      "Done computing similarity matrix.\n",
      "Computing the msd similarity matrix...\n",
      "Done computing similarity matrix.\n",
      "Computing the msd similarity matrix...\n",
      "Done computing similarity matrix.\n",
      "Evaluating RMSE, MAE of algorithm KNNWithMeans on 5 split(s).\n",
      "\n",
      "                  Fold 1  Fold 2  Fold 3  Fold 4  Fold 5  Mean    Std     \n",
      "RMSE (testset)    0.9028  0.8909  0.8995  0.8925  0.8987  0.8969  0.0045  \n",
      "MAE (testset)     0.6887  0.6804  0.6849  0.6809  0.6893  0.6849  0.0037  \n",
      "Fit time          0.53    0.61    0.67    0.56    0.54    0.58    0.05    \n",
      "Test time         2.54    2.95    2.50    2.47    2.65    2.62    0.18    \n"
     ]
    },
    {
     "data": {
      "text/plain": [
       "{'test_rmse': array([0.90284641, 0.89085452, 0.8994635 , 0.89250074, 0.89865936]),\n",
       " 'test_mae': array([0.68873217, 0.68044857, 0.68486921, 0.68093501, 0.68934847]),\n",
       " 'fit_time': (0.5312831401824951,\n",
       "  0.6135616302490234,\n",
       "  0.670452356338501,\n",
       "  0.5625381469726562,\n",
       "  0.5367505550384521),\n",
       " 'test_time': (2.5413951873779297,\n",
       "  2.9535787105560303,\n",
       "  2.5010077953338623,\n",
       "  2.466538906097412,\n",
       "  2.645071029663086)}"
      ]
     },
     "execution_count": 32,
     "metadata": {},
     "output_type": "execute_result"
    }
   ],
   "source": [
    "# Use the famous KNNwithmeans algorithm.\n",
    "algo = KNNWithMeans()\n",
    "\n",
    "\n",
    "# Run 5-fold cross-validation and print results.\n",
    "cross_validate(algo, data, measures=['RMSE', 'MAE'], cv=5, verbose=True)"
   ]
  },
  {
   "cell_type": "markdown",
   "metadata": {},
   "source": [
    "**Algorithm - KNNwithMeans**\n",
    "\n",
    "**RMSE - 89.8%**\n",
    "\n",
    "**MAE - 68.9%**\n"
   ]
  },
  {
   "cell_type": "code",
   "execution_count": 33,
   "metadata": {},
   "outputs": [
    {
     "name": "stdout",
     "output_type": "stream",
     "text": [
      "Computing the msd similarity matrix...\n",
      "Done computing similarity matrix.\n",
      "Computing the msd similarity matrix...\n",
      "Done computing similarity matrix.\n",
      "Computing the msd similarity matrix...\n",
      "Done computing similarity matrix.\n",
      "Computing the msd similarity matrix...\n",
      "Done computing similarity matrix.\n",
      "Computing the msd similarity matrix...\n",
      "Done computing similarity matrix.\n",
      "Evaluating RMSE, MAE of algorithm KNNWithZScore on 5 split(s).\n",
      "\n",
      "                  Fold 1  Fold 2  Fold 3  Fold 4  Fold 5  Mean    Std     \n",
      "RMSE (testset)    0.9088  0.8996  0.8939  0.8850  0.8920  0.8959  0.0080  \n",
      "MAE (testset)     0.6884  0.6815  0.6793  0.6733  0.6776  0.6800  0.0050  \n",
      "Fit time          0.63    0.55    0.58    0.55    0.56    0.57    0.03    \n",
      "Test time         2.72    2.85    3.16    2.83    3.24    2.96    0.21    \n"
     ]
    },
    {
     "data": {
      "text/plain": [
       "{'test_rmse': array([0.90877781, 0.89961389, 0.89388621, 0.88499474, 0.89200283]),\n",
       " 'test_mae': array([0.68838254, 0.68153478, 0.679279  , 0.6732812 , 0.6775689 ]),\n",
       " 'fit_time': (0.6250414848327637,\n",
       "  0.5469162464141846,\n",
       "  0.5781633853912354,\n",
       "  0.5469174385070801,\n",
       "  0.5568618774414062),\n",
       " 'test_time': (2.7150824069976807,\n",
       "  2.8466951847076416,\n",
       "  3.161761522293091,\n",
       "  2.8309459686279297,\n",
       "  3.2433300018310547)}"
      ]
     },
     "execution_count": 33,
     "metadata": {},
     "output_type": "execute_result"
    }
   ],
   "source": [
    "# Use the famous KNNwithmeans algorithm.\n",
    "algo = KNNWithZScore()\n",
    "\n",
    "\n",
    "# Run 5-fold cross-validation and print results.\n",
    "cross_validate(algo, data, measures=['RMSE', 'MAE'], cv=5, verbose=True)"
   ]
  },
  {
   "cell_type": "markdown",
   "metadata": {},
   "source": [
    "**Algorithm - KNNwithZscore**\n",
    "\n",
    "**RMSE - 89.2%**\n",
    "\n",
    "**MAE - 67.7%**"
   ]
  },
  {
   "cell_type": "code",
   "execution_count": 34,
   "metadata": {},
   "outputs": [
    {
     "name": "stdout",
     "output_type": "stream",
     "text": [
      "Estimating biases using als...\n",
      "Estimating biases using als...\n",
      "Estimating biases using als...\n",
      "Estimating biases using als...\n",
      "Estimating biases using als...\n",
      "Evaluating RMSE, MAE of algorithm BaselineOnly on 5 split(s).\n",
      "\n",
      "                  Fold 1  Fold 2  Fold 3  Fold 4  Fold 5  Mean    Std     \n",
      "RMSE (testset)    0.8718  0.8670  0.8748  0.8701  0.8794  0.8726  0.0042  \n",
      "MAE (testset)     0.6706  0.6712  0.6739  0.6692  0.6781  0.6726  0.0032  \n",
      "Fit time          0.31    0.34    0.33    0.35    0.38    0.34    0.03    \n",
      "Test time         0.17    0.32    0.18    0.30    0.19    0.23    0.06    \n"
     ]
    },
    {
     "data": {
      "text/plain": [
       "{'test_rmse': array([0.87175559, 0.86698751, 0.87482256, 0.87009304, 0.87938724]),\n",
       " 'test_mae': array([0.67057843, 0.67121605, 0.6738502 , 0.6691684 , 0.67811187]),\n",
       " 'fit_time': (0.30528712272644043,\n",
       "  0.3392674922943115,\n",
       "  0.33075761795043945,\n",
       "  0.3502063751220703,\n",
       "  0.38407254219055176),\n",
       " 'test_time': (0.17316031455993652,\n",
       "  0.32198262214660645,\n",
       "  0.17650365829467773,\n",
       "  0.29689764976501465,\n",
       "  0.1875147819519043)}"
      ]
     },
     "execution_count": 34,
     "metadata": {},
     "output_type": "execute_result"
    }
   ],
   "source": [
    "# Use the famous Baselineonly algorithm.\n",
    "algo = BaselineOnly()\n",
    "\n",
    "\n",
    "# Run 5-fold cross-validation and print results.\n",
    "cross_validate(algo, data, measures=['RMSE', 'MAE'], cv=5, verbose=True)"
   ]
  },
  {
   "cell_type": "markdown",
   "metadata": {},
   "source": [
    "**Algorithm - BaselineOnly**\n",
    "\n",
    "**RMSE - 87.9%**\n",
    "\n",
    "**MAE - 67.8%**"
   ]
  },
  {
   "cell_type": "code",
   "execution_count": 35,
   "metadata": {},
   "outputs": [
    {
     "name": "stdout",
     "output_type": "stream",
     "text": [
      "Evaluating RMSE, MAE of algorithm CoClustering on 5 split(s).\n",
      "\n",
      "                  Fold 1  Fold 2  Fold 3  Fold 4  Fold 5  Mean    Std     \n",
      "RMSE (testset)    0.9532  0.9468  0.9378  0.9474  0.9455  0.9461  0.0049  \n",
      "MAE (testset)     0.7356  0.7359  0.7224  0.7366  0.7302  0.7321  0.0054  \n",
      "Fit time          4.72    4.23    4.38    4.65    4.57    4.51    0.18    \n",
      "Test time         0.17    0.33    0.19    0.33    0.18    0.24    0.07    \n"
     ]
    },
    {
     "data": {
      "text/plain": [
       "{'test_rmse': array([0.95322612, 0.94676039, 0.93777214, 0.94735973, 0.94551671]),\n",
       " 'test_mae': array([0.7355997 , 0.73593244, 0.7223671 , 0.73664678, 0.73017286]),\n",
       " 'fit_time': (4.724653482437134,\n",
       "  4.2316083908081055,\n",
       "  4.383302927017212,\n",
       "  4.647804021835327,\n",
       "  4.570242881774902),\n",
       " 'test_time': (0.16648459434509277,\n",
       "  0.3294970989227295,\n",
       "  0.18751096725463867,\n",
       "  0.3283255100250244,\n",
       "  0.17644906044006348)}"
      ]
     },
     "execution_count": 35,
     "metadata": {},
     "output_type": "execute_result"
    }
   ],
   "source": [
    "# Use the famous KNNwithmeans algorithm.\n",
    "algo = CoClustering()\n",
    "\n",
    "\n",
    "# Run 5-fold cross-validation and print results.\n",
    "cross_validate(algo, data, measures=['RMSE', 'MAE'], cv=5, verbose=True)"
   ]
  },
  {
   "cell_type": "markdown",
   "metadata": {},
   "source": [
    "**Algorithm - Coclustering**\n",
    "\n",
    "**RMSE - 94.5%**\n",
    "  \n",
    "  **MAE - 73%**"
   ]
  },
  {
   "cell_type": "code",
   "execution_count": null,
   "metadata": {},
   "outputs": [],
   "source": []
  }
 ],
 "metadata": {
  "kernelspec": {
   "display_name": "Python 3",
   "language": "python",
   "name": "python3"
  },
  "language_info": {
   "codemirror_mode": {
    "name": "ipython",
    "version": 3
   },
   "file_extension": ".py",
   "mimetype": "text/x-python",
   "name": "python",
   "nbconvert_exporter": "python",
   "pygments_lexer": "ipython3",
   "version": "3.7.3"
  }
 },
 "nbformat": 4,
 "nbformat_minor": 2
}
