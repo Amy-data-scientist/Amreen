{
 "cells": [
  {
   "cell_type": "code",
   "execution_count": 13,
   "metadata": {},
   "outputs": [],
   "source": [
    "from selenium import webdriver\n",
    "import pandas as pd\n",
    "import csv\n",
    "import numpy as np"
   ]
  },
  {
   "cell_type": "code",
   "execution_count": 14,
   "metadata": {},
   "outputs": [],
   "source": [
    "driver = webdriver.Chrome(r\"\\Downloads\\chromedriver.exe\")\n"
   ]
  },
  {
   "cell_type": "code",
   "execution_count": 15,
   "metadata": {},
   "outputs": [],
   "source": [
    "driver.get(\"https://www.imdb.com/title/tt1051906/reviews?ref_=tt_ql_3\")"
   ]
  },
  {
   "cell_type": "code",
   "execution_count": 16,
   "metadata": {},
   "outputs": [
    {
     "name": "stdout",
     "output_type": "stream",
     "text": [
      "The Invisible Man (2020)\n"
     ]
    }
   ],
   "source": [
    "movie_name = []\n",
    "review_m = driver.find_elements_by_class_name(\"parent\")\n",
    "for post in review_m:\n",
    "    movie_name.append(post.text)\n",
    "    print(post.text)"
   ]
  },
  {
   "cell_type": "code",
   "execution_count": 17,
   "metadata": {},
   "outputs": [
    {
     "name": "stdout",
     "output_type": "stream",
     "text": [
      "So Many Holes In This Plot, It Was An Invisible Movie\n",
      "Effective thrills, but with some logic issues\n",
      "The Invisible Plot\n",
      "Who paid these other reviewers?\n",
      "Starts brilliantly but ultimately undermines itself with plot contrivances and genre foolishness\n",
      "The only thing truly invisible in the film is quality.\n",
      "Plot holes...you bet\n",
      "Hollywood takes us for chumps\n",
      "A nail-biting thriller that has more on its mind than providing simple thrills.\n",
      "Barely just \"okay\"\n",
      "Plotholes larger than moon's craters\n",
      "I truly hated this\n",
      "Amazingly Bad. Rubbish. Awful. Unrealistic.\n",
      "Yet ANOTHER \" Men Bad- Woman GOOD!\" movie\n",
      "Mind Games Nightmare Without the Presence of the Invisible Man.\n",
      "Don't waste your money.. rent Hollow Man instead\n",
      "An Honest Review\n",
      "Pales in Comparison to the Original\n",
      "Worst movie of the year so far\n",
      "Joke\n",
      "Do you enjoy horror? You wont enjoy this.\n",
      "Was expecting at least a little more\n",
      "Amazing film: scary and anxiety inducing\n",
      "Yet another 120 mins which could have been 10\n",
      "What a trash.\n",
      "\n"
     ]
    }
   ],
   "source": [
    "review_title = []\n",
    "review_t = driver.find_elements_by_class_name(\"title\")\n",
    "for post in review_t:\n",
    "    review_title.append(post.text)\n",
    "    print(post.text)"
   ]
  },
  {
   "cell_type": "code",
   "execution_count": 18,
   "metadata": {},
   "outputs": [
    {
     "name": "stdout",
     "output_type": "stream",
     "text": [
      "\n",
      "\n",
      "\n",
      "7.5 rating on here I thought this would turn out to be a pretty decent movie. What I got instead was a boring mess. Zero character development, no emotional connection to the main characters to make you care what happens to them. Do yourself a favor and find something else.\n",
      "146 out of 245 found this helpful. Was this review helpful? Sign in to vote.\n",
      "Permalink\n",
      "H.G. Wells's original The Invisible Man (1897) suggests that rather than something as powerful as invisibility being used for the betterment of mankind, it would instead be used to fulfil private desires, ultimately leading to the moral corruption of otherwise good men. In probably the best cinematic adaptation, Hollow Man (2000), this is taken much further, with the suggestion that the results of invisibility would be nothing less than sexual violence, evil, and madness. However, despite the centrality of this theme in the core story, reframing the template as a tale of domestic abuse and PTSD, as happens in this latest adaptation, which focuses not on the male scientist but on a female victim of his, is a fascinating idea, creating the potential for some timely #MeToo social commentary, particularly as it relates to issues of not believing women who accuse powerful men of gaslighting. But potential only gets you so far, and what could have been a really insightful film eventually proves itself relatively incapable of using issues of domestic abuse as anything other than plot points to get from one predictable scare to the next.\n",
      "\n",
      "The film begins as Cecilia Kass () is putting into motion a plan to leave her domineering and abusive boyfriend, Adrian Griffin (), a wealthy pioneer in optics. Having drugged him, she leaves their high-tech home in the middle of the night and is picked up nearby by her sister Emily (), who takes her to stay with their childhood friend, James Lanier (), a policeman living with his daughter Sydney (). Although assured that Adrian can't find her, Cecilia is clearly suffering from agoraphobia and paranoia. That is until Adrian commits suicide. Contacted by his brother Tom () who's handling his estate, Cecilia learns that Adrian has left her $5 million. However, despite her best efforts to move on, she just can't shake the feeling that Adrian is still around, watching her, sometimes even in the same room as her. And the surer she becomes that he's not dead, the more everyone else becomes worried about her mental well-being.\n",
      "\n",
      "Written and directed by , this latest adaptation of Wells's original is not actually about the invisible man. Indeed, short of a background shot of him lying in bed, a shot showing only his torso as he runs through a forest, and a close-up of his hand, actor Oliver Jackson-Cohen doesn't even appear on screen prior to his apparent suicide. Adrian is not only the invisible man of the plot, so too is his character ideologically invisible. Which makes its own statement, and it's a statement worth making - men like him don't need to be present to continue to cause harm. In this sense, at least initially, the film is more concerned with the fear Adrian has instilled in Cecilia; in the early stages, Cecilia's main enemy isn't Adrian so much her inability to move on from him. Along the same lines, the film looks at issues of how women who accuse powerful men of gaslighting are often ignored or openly disbelieved.\n",
      "\n",
      "Aesthetically, the film looks terrific, particularly 's cinematography, into which is built Cecilia's paranoia. For example, countless scenes involve the camera panning away from her, moving across the room, showing us nothing at all, and then panning back. Ordinarily, this would be textbook unmotivated camera movement, but here it conveys how Cecelia fears there may be something in the corner to which we panned. And now, thanks to that camera pan, so do we. There are also many shots which in another film would be awful framing; isolating Cecilia in the frame and filling up so much of the screen's real-estate with empty negative space. Except, again, in this film, such negative space has an ominousness not applicable to regular thrillers. In this way, Whannell can instil fear and dread simply by pointing the camera at an empty room without the need for any FX, VFX, makeup, elaborate props etc (which no doubt played a significant role in keeping the budget down to a minuscule $7 million). And I'd be remiss if I didn't mention Moss's performance, which is excellent, especially given that so much of it is her on her own reacting to nothing whatsoever, having to communicate confusion, fear, anger etc through little more than her expression.\n",
      "\n",
      "Before talking about why I didn't like the film, however, I want to reiterate that I honestly can't say how much I admire the idea to reconstitute the genre template as a story about domestic violence. And it's an especially timely reconstitution, coming as it does in the era of #MeToo, when so many powerful men, once considered invisible in everything but name, able to perpetrate their crimes with impunity, have been revealed as the monsters they are. So I have no problem with the ideological paradigm shift. My problem is with the execution.\n",
      "\n",
      "For one thing, we know from the get-go that Cecilia isn't imagining things, that Adrian faked his suicide and is now stalking her whilst invisible. This isn't a twist, and the film makes no attempt to hide it. Granted, this is kind of unavoidable given how well-known the property is, but had the film allowed for even a little bit of ambiguity, it could have done wonders for emotional complexity, turning a story about invisibility into a story possibly about mental collapse. This would have effectively placed the audience in the same position as the other characters, doubting Cecilia's state of mind, which would, in turn, have enhanced the potency of the socio-political allegory. Another thing that bothered me is that in a film so focused on surveillance and privacy, there are several scenes where if there is even one functioning CCTV camera, the movie ends. A pivotal scene in a restaurant is an especially egregious example of this - one grainy image from a camera, and Cecilia can prove she's not going nuts and the whole plot unravels.\n",
      "\n",
      "However, my biggest problem is that what starts as a fascinating study of the lasting ramifications of domestic violence ultimately descends into genre stupidity, with a ridiculously over-the-top final act that says nothing of interest about anything. True, Hollow Man has a pretty over-the-top final act too, but Hollow Man never saw itself as anything other than a schlocky genre affair, whereas The Invisible Man clearly does. The fact that Whannell ultimately undermines himself in this way, deploying such important themes merely to get him to the gory dénouement, is especially frustrating insofar as he genuinely did originally seem to have some interesting things to say. Tied to this is that Adrian is introduced as such an abhorrent character from the start, void of nuance or subtlety. Domestic abusers aren't monotone evil-doers, oftentimes, they're very charming on the surface, and any film claiming to be a serious examination of this topic would make room to address this.\n",
      "\n",
      "Although The Invisible Man was very well reviewed and a huge box-office hit, it left me disappointed and frustrated. Initially positioning itself as an insightful allegory for the difficulty victims of domestic abuse have in moving on with their lives even after the abuser is gone, it eventually privileges genre beats and cheap thrills over emotional complexity. Which is a huge shame and a massively missed opportunity.\n",
      "Mediocre thriller filled with illogical plot holes. The first third of the movie is marginally alright. After it transitions into a sci fi comedy, with the main protagonist playing John Wick, while the main antagonist plays an inverse Bruce Wayne. In this fictional universe, security guards are apparently trained at a bakery. Cameras make no sound whatsoever. Are amazingly waterproof and stain-phobic. Not even paint can stain those. Little girls have a 6th sense for rape and murder. The penetration of a can of pepper spray is equal to that of a cannon ball. Physical objects are ephemeral in nature when it comes to rain drops hitting them. I mean, god damn, i need to get me a set od those god like cameras. And Nat Geo should too, probably.\n",
      "\n",
      "This movie is not even good for making fun of, if you wish to watch a dumb movie with your friends and have a good time - go watch As Above So Below.\n",
      "65 out of 107 found this helpful. Was this review helpful? Sign in to vote.\n",
      "Permalink\n",
      "I'm sorry but at times I just don't understand the reviews on this site. There were soooooooo many plot holes it just ruined what other wise could have been a half decent film. I'm afraid that a good film can easily be ruined when the narrative simply doesn't follow and this is one of those cases.\n",
      "183 out of 323 found this helpful. Was this review helpful? Sign in to vote.\n",
      "Permalink\n",
      "I can't begin to convey how bad this thing is. Elisabeth Moss spends the entire movie looking like she has to use the bathroom. The scenes are too long and the music is way too loud and overwhelming. Bottom lime is Hollywood makes another reboot that stinks up the joint. Total waste of time. Can't hold a candle to the original. Make this movie invisible!\n",
      "173 out of 316 found this helpful. Was this review helpful? Sign in to vote.\n",
      "Permalink\n",
      "\n",
      "The Invisible Man ... hmmmm. Well, it wasn't awful, but it wasn't great. I still don't understand what house she went to, her relationship with the two people that live there, and why it never occurs to her to use the camera on her phone to record video for evidence.\n",
      "\n",
      "In today's world, films really need to go out of their way to explain a LACK of smartphone use. They are so prevalent that NOT using them is a plot hole, and not a small one. It really kind of irritates me.\n",
      "\n",
      "There is one legit good jump scare and some good tense moments. But for the most part it just feels like a real wasted opportunity.\n",
      "\n",
      "I hate to say it, but Hollow Man did it better.\n",
      "208 out of 391 found this helpful. Was this review helpful? Sign in to vote.\n",
      "Permalink\n",
      "\n",
      "\n",
      "It honestly makes me sad that we live in an era where a poorly written screenplay like this gets such high praise. I don't even know where to begin to express how bad this film was. I wanted to walk out with 30 minutes left and I never do that. Just when you think the pain is going to end and the movie is over, there is an additional 4th act to add to the absurdity!\n",
      "\n",
      "The lead does a decent job acting in this film but hard to not get a bunch of filth on you in the process.\n",
      "\n",
      "Honestly, do we live in an era where people have stopped thinking and just want to go to a film and zone out and not require it to be good anymore or have a good story?\n",
      "\n",
      "Stay away from this trash.\n",
      "152 out of 289 found this helpful. Was this review helpful? Sign in to vote.\n",
      "Permalink\n",
      "This seems to be the only type of movie Elisabeth Moss makes- where she is the strong, powerful victim of Bad Men ! Hollywood keeps churning out sad remakes but infused with Social Justice characters and plot changes that guarantees they won't sell well. The original was better ( when isn't it ?) and the directing was lame. How about The Invisible Woman ?A Psycho exgirlfriend attacks and destroys an innocent man with made up allegations ? Like in real life ?\n",
      "195 out of 378 found this helpful. Was this review helpful? Sign in to vote.\n",
      "Permalink\n",
      "An interesting modern take on the invisible man concept in this twisted mind game nightmare yet it comes with the lack of the invisible man presence! An abused wife escapes her narcissist and sadistic husband to her friend's house only to know after a couple of weeks that he committed suicide, in what seems like a happy ending for her turns out to be hell as she feels her husband's presence around here almost everywhere which leads her to suspect that he's still alive and won't let her go this easy.\n",
      "\n",
      "So far the idea sounds interesting but for a general thriller, not revival of a classic, I believe the plot should've been approached with more of a homage to the classic adaption. I know the idea of taking chemical potions to become invisible is over used but a plot mix between modern technology and past methods would've been a better choice, I already have couple of ideas on how to do so just by writing this.\n",
      "\n",
      "Elisabeth Moss carries the movie well, yet the movie feels more like \"The Invisible Man's Wife\" story more than being The Invisible Man story! Practically almost the whole movie is focused on the wife, her mental suffering and what she's going through, you can barley see/sense any character development or acting from the invisible man at all. Some scenes are very predictable like you can almost see through but it's a nice piece of a (general thriller) for the most part.\n",
      "Slow start, slow middle, slow ending. Even the attempt at throwing in a twist couldn't help this movie. I haven't been that bored watching a movie in super long time.\n",
      "55 out of 98 found this helpful. Was this review helpful? Sign in to vote.\n",
      "Permalink\n",
      "I haven't really seen an Invisible Man movie that I could say was good. So I had low expectations walking in.\n",
      "\n",
      "The one with Chevy Chase was horrible. The one with Kevin Bacon was tolerable... but I wouldn't say it was particularly good. This one, however, was awful.\n",
      "\n",
      "But at least it hit all the tropes... not sci-fi/horror tropes, but it hit all the political tropes. And, honestly, I got sick of political lectures in my entertainment about four years ago and they are only getting worse. Movies like this are made to be escapism, if I wanted to see a political film, I'd watch one that overtly claims to be a political film.\n",
      "\n",
      "Movies like this also rely on tension and scares. And tension needs to be built through atmosphere. It needs to be built through character and story, and if it is done right it can be a slow burner of a film that is still entertaining.\n",
      "\n",
      "There was really no tension here. The characters were created to be political representations of the narrative they were pushing and not real characters. It makes it hard to be invested in the well being of a character when they are just stereotypes.\n",
      "\n",
      "It takes away from the tension.\n",
      "\n",
      "Walking stereotypes of what the Twitter community thinks they should be based on race, gender, and sexuality and not real people. Who can become invested in characters that are stereotypes?\n",
      "\n",
      "It's a situation made worse because the villain isn't ominous and intimidating, he isn't threatening at all. He's the stereotype of what the Twitter community thinks is an Incel... and there is nothing at all threatening about that. Watching him, you get the impression that you could break him down into a basket of tears with nothing more but a harsh word.\n",
      "\n",
      "When the tension is broken, it's with a jump scare. Those are as overdone as the stereotyped political agenda driven characters.\n",
      "\n",
      "When all is said and done, you have a movie without the tension needed to move the film along, you have a movie with stereotyped characters that it's hard to get invested in, you have a movie with a villain that is anything but threatening, and you ultimately have a movie where nothing much happens.\n",
      "\n",
      "But, if you are the type to watch a film with a notebook and writing utensil to record all the points it needs to hit to make it Twitter posse approved... it hits enough of them for high praise.\n",
      "\n",
      "For the rest of us, we'll go back to Chevy Chase and Kevin Bacon and be slightly less disappointed.\n",
      "\n",
      "I just got back from a nearly empty theater in order to see this, and I wish I hadn't paid. I don't even wish I'd illegally downloaded it, I wish it were never made so I was never tempted to see it. Hollow Man was better, and that's a sad statement. Who in the hell is rating this positively? There was no 'there' there. No backstory on ANY of the characters, not a single memorable line delivered, and not even an explanation for the so called science fiction aspect of this. On top of that a highly unbelievable story about domestic violence in which we are to believe that a handsome, rich genius is somehow in love with and obsessed with Elizabeth Moss of all people. Leave her to the Handmaid's Tale, she is not meant to be a romantic interest. She got lucky on this because of her origins. Her acting was the usual. I get it, this is supposed to be a horror, but it wasn't even that. Just typical 'made ya flinch!' moments that weren't even that because it was so gosh darn predictable. The positive ratings must be from people who were just glad for the diversity and glad to see yet another white guy cast as a villian (which gets no explanation at all, not even a flashback to what he did that was so horrible. To the point where at the end you can't even be sure he was a villian at all). I was sure a woman wrote this at the end, but I was disappointed to see it was the guy who did Saw. That was at least entertaining. This was embarrassing.\n",
      "\n",
      "Shame on all of you who voted this up. We shall get more of the same as Idiocracy becomes more of a documentary than a ridiculous fiction movie.\n",
      "Read the reviews here before heading to the movie. Walked out after 30 minutes. I mean seriously, Moss in the lead role? No explanation who are the characters Moss went to live with. She is as expressive as Mona Lisa. How can this movie be so highly rated here? I feel cheated with my hard earned money.\n",
      "82 out of 157 found this helpful. Was this review helpful? Sign in to vote.\n",
      "Permalink\n",
      "This is one of the worst movies I've seen in years. I dont understand the good reviews, I saw the trailer and got excited, I read the reviews and I got even more excited.. I saw the movie and Jesus, not scary at all and the story was just bad.. This is a sci-fi, not a horror movie..\n",
      "48 out of 88 found this helpful. Was this review helpful? Sign in to vote.\n",
      "Permalink\n",
      "Very poor. slow and tedious. how this film has received a score in the 7+ range is beyond me. i'm starting to believe that some of the ratings on imdb are faked and probably placed by a bot.\n",
      "141 out of 284 found this helpful. Was this review helpful? Sign in to vote.\n",
      "Permalink\n",
      "\n",
      "\n",
      "\n"
     ]
    }
   ],
   "source": [
    "review = []\n",
    "review_f = driver.find_elements_by_class_name(\"content\")\n",
    "for post in review_f:\n",
    "    review.append(post.text)\n",
    "    print(post.text)"
   ]
  },
  {
   "cell_type": "code",
   "execution_count": 19,
   "metadata": {},
   "outputs": [],
   "source": [
    "data_tuples = list(zip(review_title,review))"
   ]
  },
  {
   "cell_type": "code",
   "execution_count": 20,
   "metadata": {},
   "outputs": [
    {
     "data": {
      "text/html": [
       "<div>\n",
       "<style scoped>\n",
       "    .dataframe tbody tr th:only-of-type {\n",
       "        vertical-align: middle;\n",
       "    }\n",
       "\n",
       "    .dataframe tbody tr th {\n",
       "        vertical-align: top;\n",
       "    }\n",
       "\n",
       "    .dataframe thead th {\n",
       "        text-align: right;\n",
       "    }\n",
       "</style>\n",
       "<table border=\"1\" class=\"dataframe\">\n",
       "  <thead>\n",
       "    <tr style=\"text-align: right;\">\n",
       "      <th></th>\n",
       "      <th>review_title</th>\n",
       "      <th>review</th>\n",
       "    </tr>\n",
       "  </thead>\n",
       "  <tbody>\n",
       "    <tr>\n",
       "      <th>0</th>\n",
       "      <td>So Many Holes In This Plot, It Was An Invisibl...</td>\n",
       "      <td></td>\n",
       "    </tr>\n",
       "    <tr>\n",
       "      <th>1</th>\n",
       "      <td>Effective thrills, but with some logic issues</td>\n",
       "      <td></td>\n",
       "    </tr>\n",
       "    <tr>\n",
       "      <th>2</th>\n",
       "      <td>The Invisible Plot</td>\n",
       "      <td></td>\n",
       "    </tr>\n",
       "    <tr>\n",
       "      <th>3</th>\n",
       "      <td>Who paid these other reviewers?</td>\n",
       "      <td>7.5 rating on here I thought this would turn o...</td>\n",
       "    </tr>\n",
       "    <tr>\n",
       "      <th>4</th>\n",
       "      <td>Starts brilliantly but ultimately undermines i...</td>\n",
       "      <td>H.G. Wells's original The Invisible Man (1897)...</td>\n",
       "    </tr>\n",
       "  </tbody>\n",
       "</table>\n",
       "</div>"
      ],
      "text/plain": [
       "                                        review_title  \\\n",
       "0  So Many Holes In This Plot, It Was An Invisibl...   \n",
       "1      Effective thrills, but with some logic issues   \n",
       "2                                 The Invisible Plot   \n",
       "3                    Who paid these other reviewers?   \n",
       "4  Starts brilliantly but ultimately undermines i...   \n",
       "\n",
       "                                           review \\n  \n",
       "0                                                     \n",
       "1                                                     \n",
       "2                                                     \n",
       "3  7.5 rating on here I thought this would turn o...  \n",
       "4  H.G. Wells's original The Invisible Man (1897)...  "
      ]
     },
     "execution_count": 20,
     "metadata": {},
     "output_type": "execute_result"
    }
   ],
   "source": [
    "df = pd.DataFrame(data_tuples,columns = ['review_title' ,'review \\n'])\n",
    "\n",
    "df.head()"
   ]
  },
  {
   "cell_type": "code",
   "execution_count": 21,
   "metadata": {},
   "outputs": [],
   "source": [
    "df['movie_name']  = 'The Invisible Man (2020)'"
   ]
  },
  {
   "cell_type": "code",
   "execution_count": 22,
   "metadata": {},
   "outputs": [
    {
     "data": {
      "text/html": [
       "<div>\n",
       "<style scoped>\n",
       "    .dataframe tbody tr th:only-of-type {\n",
       "        vertical-align: middle;\n",
       "    }\n",
       "\n",
       "    .dataframe tbody tr th {\n",
       "        vertical-align: top;\n",
       "    }\n",
       "\n",
       "    .dataframe thead th {\n",
       "        text-align: right;\n",
       "    }\n",
       "</style>\n",
       "<table border=\"1\" class=\"dataframe\">\n",
       "  <thead>\n",
       "    <tr style=\"text-align: right;\">\n",
       "      <th></th>\n",
       "      <th>review_title</th>\n",
       "      <th>review</th>\n",
       "      <th>movie_name</th>\n",
       "    </tr>\n",
       "  </thead>\n",
       "  <tbody>\n",
       "    <tr>\n",
       "      <th>0</th>\n",
       "      <td>So Many Holes In This Plot, It Was An Invisibl...</td>\n",
       "      <td></td>\n",
       "      <td>The Invisible Man (2020)</td>\n",
       "    </tr>\n",
       "    <tr>\n",
       "      <th>1</th>\n",
       "      <td>Effective thrills, but with some logic issues</td>\n",
       "      <td></td>\n",
       "      <td>The Invisible Man (2020)</td>\n",
       "    </tr>\n",
       "    <tr>\n",
       "      <th>2</th>\n",
       "      <td>The Invisible Plot</td>\n",
       "      <td></td>\n",
       "      <td>The Invisible Man (2020)</td>\n",
       "    </tr>\n",
       "    <tr>\n",
       "      <th>3</th>\n",
       "      <td>Who paid these other reviewers?</td>\n",
       "      <td>7.5 rating on here I thought this would turn o...</td>\n",
       "      <td>The Invisible Man (2020)</td>\n",
       "    </tr>\n",
       "    <tr>\n",
       "      <th>4</th>\n",
       "      <td>Starts brilliantly but ultimately undermines i...</td>\n",
       "      <td>H.G. Wells's original The Invisible Man (1897)...</td>\n",
       "      <td>The Invisible Man (2020)</td>\n",
       "    </tr>\n",
       "  </tbody>\n",
       "</table>\n",
       "</div>"
      ],
      "text/plain": [
       "                                        review_title  \\\n",
       "0  So Many Holes In This Plot, It Was An Invisibl...   \n",
       "1      Effective thrills, but with some logic issues   \n",
       "2                                 The Invisible Plot   \n",
       "3                    Who paid these other reviewers?   \n",
       "4  Starts brilliantly but ultimately undermines i...   \n",
       "\n",
       "                                           review \\n                movie_name  \n",
       "0                                                     The Invisible Man (2020)  \n",
       "1                                                     The Invisible Man (2020)  \n",
       "2                                                     The Invisible Man (2020)  \n",
       "3  7.5 rating on here I thought this would turn o...  The Invisible Man (2020)  \n",
       "4  H.G. Wells's original The Invisible Man (1897)...  The Invisible Man (2020)  "
      ]
     },
     "execution_count": 22,
     "metadata": {},
     "output_type": "execute_result"
    }
   ],
   "source": [
    "df.head()"
   ]
  },
  {
   "cell_type": "code",
   "execution_count": 24,
   "metadata": {},
   "outputs": [],
   "source": [
    "df.to_csv('IMBD_most_popular_movies.csv', mode='a', header=False)"
   ]
  },
  {
   "cell_type": "code",
   "execution_count": null,
   "metadata": {},
   "outputs": [],
   "source": []
  },
  {
   "cell_type": "code",
   "execution_count": null,
   "metadata": {},
   "outputs": [],
   "source": []
  },
  {
   "cell_type": "code",
   "execution_count": null,
   "metadata": {},
   "outputs": [],
   "source": []
  }
 ],
 "metadata": {
  "kernelspec": {
   "display_name": "Python 3",
   "language": "python",
   "name": "python3"
  },
  "language_info": {
   "codemirror_mode": {
    "name": "ipython",
    "version": 3
   },
   "file_extension": ".py",
   "mimetype": "text/x-python",
   "name": "python",
   "nbconvert_exporter": "python",
   "pygments_lexer": "ipython3",
   "version": "3.7.3"
  }
 },
 "nbformat": 4,
 "nbformat_minor": 2
}
