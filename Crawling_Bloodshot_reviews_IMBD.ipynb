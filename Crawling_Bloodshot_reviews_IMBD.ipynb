{
 "cells": [
  {
   "cell_type": "code",
   "execution_count": 84,
   "metadata": {},
   "outputs": [],
   "source": [
    "from selenium import webdriver\n",
    "import pandas as pd\n",
    "import csv\n",
    "import numpy as np"
   ]
  },
  {
   "cell_type": "code",
   "execution_count": 85,
   "metadata": {},
   "outputs": [],
   "source": [
    "driver = webdriver.Chrome(r\"\\Downloads\\chromedriver.exe\")\n"
   ]
  },
  {
   "cell_type": "code",
   "execution_count": 86,
   "metadata": {},
   "outputs": [],
   "source": [
    "driver.get(\"https://www.imdb.com/title/tt1634106/reviews?ref_=tt_ql_3\")"
   ]
  },
  {
   "cell_type": "code",
   "execution_count": 87,
   "metadata": {},
   "outputs": [
    {
     "name": "stdout",
     "output_type": "stream",
     "text": [
      "Bloodshot (2020)\n"
     ]
    }
   ],
   "source": [
    "movie_name = []\n",
    "review_m = driver.find_elements_by_class_name(\"parent\")\n",
    "for post in review_m:\n",
    "    movie_name.append(post.text)\n",
    "    print(post.text)"
   ]
  },
  {
   "cell_type": "code",
   "execution_count": 88,
   "metadata": {},
   "outputs": [
    {
     "name": "stdout",
     "output_type": "stream",
     "text": [
      "Eliza González Was A Joy\n",
      "Avoid Theaters to Minimize the Risk of Catching Coronavirus, or Worse, Seeing This Vin Diesel Flick\n",
      "Even for Vin Diesel this was terrible\n",
      "Gave Diesel a second chance... I was Right all the time\n",
      "I am not familiar with the comic but this film felt very familiar throughout as it seemed to borrow many aspects in visuals and concepts from other recent anti hero films.\n",
      "Boring, Predictable and a mess\n",
      "Boring and typical\n",
      "Not worth going to the movie theater\n",
      "Nothing special\n",
      "If you watched the trailer nothing new here\n",
      "Save your money\n",
      "Above average\n",
      "It just needed some quality in front of the camera !!\n",
      "Someone should tell the director it's 2020\n",
      "Boreshoot\n",
      "Needed More Films Than 1\n",
      "This is bad\n",
      "Boring, predictable and total waste\n",
      "Remake of Universal soldier 1992?\n",
      "It was ended too quick\n",
      "rushed and boring\n",
      "Robotic soldier turns into...robotic soldier with nanotechnology\n",
      "Unremarkable.......\n",
      "Essentially a reboot of 1992s \"universal soldier\"\n",
      "Average\n",
      "\n"
     ]
    }
   ],
   "source": [
    "review_title = []\n",
    "review_t = driver.find_elements_by_class_name(\"title\")\n",
    "for post in review_t:\n",
    "    review_title.append(post.text)\n",
    "    print(post.text)"
   ]
  },
  {
   "cell_type": "code",
   "execution_count": 89,
   "metadata": {},
   "outputs": [
    {
     "name": "stdout",
     "output_type": "stream",
     "text": [
      "I just got out of Bloodshot\n",
      "\n",
      "I didn't like it, but I wouldn't say I hated it. It is a very silly film that is seemingly aware (At least I hope it is) of how silly it is. It's pretty tame violence and blood wise, it's pretty much all in the trailers which is disappointing.\n",
      "\n",
      "It's full of cliche's, it's action is routine and the effects whilst not bad, are not mind blowing either, there isn't much humour, but I have to say it is hard to hate a film that includes a dick joke which takes 20 minutes to pay off.\n",
      "\n",
      "Of the cast Vin Diesel is a bit bland and Guy Pierce is hamming it up but Eliza González was joy as KT\n",
      "\n",
      "It features two things I hate in movies, people eating noisily (when they'd never really eat at that moment) and when you see the back of someone's head (Vin Diesel for example) whilst he is talking, but what you can see of the side of his face, clearly does not match what he is saying.\n",
      "\n",
      "There were 16 other people in my screening. They were mostly 20 or younger and spent a lot of time on their phones. Someone was even checking Facebook during a chase scene.\n",
      "One must assume that while the world is at the mercy of a global pandemic and every other high profile film release on record is being delayed, the producers behind Vin Diesel's 'Bloodshot' simply decided to say \"ahh the heck with it, just put the movie out and maybe we'll get a bump in market share.\"\n",
      "\n",
      "What's the worst that can happen? The film opens poorly, just as everyone already suspected it would?\n",
      "\n",
      "The problem with 'Bloodshot' is that there's nothing we haven't seen plenty of times before. Vin Diesel in a white tank top? Check. Man gets killed, brought back to life using cutting-edge technology making him stronger, faster, and more resilient? Check. Man uses newfound abilities to go on a revenge spree and avenge the murder of his wife? Check.\n",
      "\n",
      "Perhaps we should be lauding Vin Diesel for getting paid millions of dollars to play the same character for twenty years. The only problem is that him doing so forces film critics like me to watch his movies. Ray, his character in 'Bloodshot,' isn't interesting at all-either before or after his transformation. It's just Vin with a different three letter name, like a dozen other characters he's played recently, featuring the same brooding look and tough-guy mannerisms.\n",
      "\n",
      "Instead of going to the movie theater and potentially catching coronavirus-or worse, having to sit through 'Bloodshot'-stream some other similar (and better) flicks instead, such as 'Hardcore Henry' or 'Upgrade.'\n",
      "Cheesy, super fake, terrible plot, terrible acting. All around awful.\n",
      "193 out of 266 found this helpful. Was this review helpful? Sign in to vote.\n",
      "Permalink\n",
      "I simply run from Vin Diesel movies. F&F, XXX among other from this walking expressionless door they call an actor. Why? Because Vin Diesel's characters are all the same and they dont make any sense at all. Bloodshot was somekind of Robocop with Dredd... if booth were written by a desfunctional 15 year old boy with drug abuse. Okay, Robocop isn't that reference of perfect plot and development, but it was okay. This one here, however, we can't take no advantage from. The plot is Just a compilation of Hollywood action movies clichés from start to finish. The redemption of a A-Class American soldier who has no Family, no Friends, no one to miss him, so, thank that he has nothing to loose when te gets enhanced after death by a megalomaniac scientist who controls the movie heroe's every step. I mean...really?? Hollywood screenwriters have nothing left to come up with?? Thats sad at least. Special and visual effects are full of failures . The CGI is mediocre (to save adjectives). The sound mixing and editing was poorly developed, we dont feel the imerssion we should expect from a high action movie. Bloodshot saves himself for having a little bit more of 100 minutes length. More than that and I would certainly commmit suicide if Vin Diesel came with another super hero (una) effective quote. This movie is a total disgrace, please, dont loose your time or Money.\n",
      "It works on a basic level of action spectacle, but really doesn't offer anything in the story department that we haven't come to know with these revenge anti hero films. Vin Diesel is as standard as he usually is and doesn't make the character interesting either. I'll just sum it up and say this is just a throwaway action film with some cool sequences but overall you will feel like you've seen it already.\n",
      "62 out of 82 found this helpful. Was this review helpful? Sign in to vote.\n",
      "Permalink\n",
      "I never saw the trailers, neither did I knew this was based on a comic-book. I just wanted to see a good action movie with Vin Diesel in it. I did not had my exceptions very high, but boy did it even went far beyond that.\n",
      "\n",
      "This is your run of the mill action movie, even the action seems are uninspired, there is no redeeming quality about this movie, it was very generic and boring. Add that with wooden performances and the script was a total mess, it could be written by any Kid, it was that generic.\n",
      "\n",
      "This movie does not stand out in any way from the other superhero action movies, it does nothing that distinguishes itself, neither does it do a good job in what it's trying to achieve, just random things happening here and there and you stop caring midway through.\n",
      "\n",
      "I would say avoid seeing this one, not worth watching in the cinema at all or in general.\n",
      "\n",
      "First of all I have to mention, that I saw the trailer before I saw the movie. Basically I knew exactly what would happen because the trailer spoiled the whole plot. So thank you for that.\n",
      "\n",
      "They prise the fact that the film is produced by the same people who produced the Fast and Furious series. That should tell enough about that movie:\n",
      "\n",
      "Lots of action, bad story and full of stereotypes.\n",
      "\n",
      "Enjoy that one at home, on an evening where you have nothing better to do.\n",
      "143 out of 207 found this helpful. Was this review helpful? Sign in to vote.\n",
      "Permalink\n",
      "I love Vin Diesel. But this movie is a Vin Diesel movie like any other. Lots and lots of action and a rather thin story behind it. The movie wasn't bad, but it was very predictable. The story had some good elements which could have made for a great movie. It just seems unfinished. I would not go and see it at the movies, its not worth the money.\n",
      "121 out of 176 found this helpful. Was this review helpful? Sign in to vote.\n",
      "Permalink\n",
      "Was highly excited for the film but the film was so terrible I slept halfway through the film. go in your own risk.\n",
      "112 out of 165 found this helpful. Was this review helpful? Sign in to vote.\n",
      "Permalink\n",
      "There is nothing notable or worth talking about in this boring movie\n",
      "117 out of 175 found this helpful. Was this review helpful? Sign in to vote.\n",
      "Permalink\n",
      "Watched bloodshot today and quite enjoyed it. Great action pieces, so so story and Vin Diesel's short and sweet dialogue. Definite popcorn flick.\n",
      "39 out of 54 found this helpful. Was this review helpful? Sign in to vote.\n",
      "Permalink\n",
      "This is going to be a biased review ! Plain and simple ! I have never been and never will be a fan of Vin Diesel.....he simply cant act !! He is not an actor , he is like a stuntman that has got lucky and been forced into the public spotlight to be made into a star. He is not even a good action film actor............to me thats people like Tom Cruise , Liam Neeson and Keanu Reeves...............so your more than welcome to stop reading and downvote or whatever.\n",
      "\n",
      "Nether the less I was going to give this film a try !! Try and throw all biases and pre conceived notions out before viewing it...........however it was very quick that I saw this was gonna be pretty dreadful........strangely though coming out of it I do think that the whole concept of the film, even though its not original in anyway, there is something interesting about it. All this film needed was better talent and quality infront of the camera..............and oh writing the script as well.\n",
      "\n",
      "I have one positive to the film and one only................the CGI and action was pretty cool , a bit new and yeah was quite interesting...........really liked it......Mmmmmmm but thats it.\n",
      "\n",
      "I am not going to cover Vin I'm afraid what is the point.........he might be a great guy but he has still not conVINced me that he can act or has shown me what everyone else can see in him.............I know I'm in the minority on this one!\n",
      "\n",
      "Guy Pearce, yeah I've always liked him even though he does do some stinkers now and then...........he was ok, maybe getting a bit of a pay check sort of performance.......but can you really blame him.\n",
      "\n",
      "Lastly oh what was that guy doing, Lamorne Morris...........I know he was probably told to act like that but just so spine numbingly awful at times, so cliched and stereotyped..........laughable..........he might be a good actor I'm not going to judge him for this film.\n",
      "\n",
      "Ah no I forgot Toby Kebbell..............wow has hollywood been desperately trying to make him a star , bless him...........I don't know I like the guy but he just gets involved in the wrong projects...........I think he an act but he is just plain weird in this film...............\n",
      "\n",
      "Strangely as I mentioned earlier there was promise with this idea of the main character and the story. All it needs is better actors , a better script , more serious tone and less humour.................you might just have something !?!? Unfortunately though we were given this pile of garbage in 2020........yes in 2020 films like this are still being made......I'm obviously in the minority as to why because I just don't see the appeal of dumb , easy , cliched and stereotyped stories/characters in a action film..........Its 30% out of 100 its pretty bad, only the CGI and the action scenes save it from being disastrous.........I just don't know anymore, can someone explain to me why stuff like this is popular ?!??!\n",
      "It feels like an early 2000's superhero movie in a bad way like Daredevil or GhostRider\n",
      "93 out of 143 found this helpful. Was this review helpful? Sign in to vote.\n",
      "Permalink\n",
      "I just watched it with my family and had to wake up from a nap when it finished. Comic no one ever heard of dramatized the way no one ever wanted. Save yourself some money and pick just about anything else.\n",
      "96 out of 148 found this helpful. Was this review helpful? Sign in to vote.\n",
      "Permalink\n",
      "\n",
      "The movie could almost be made by a 10 year old, nothing but mindless as toon that's not even subpar. The plot line and story is terrible, the only good things about the movie were vin desiel playing the same character he's played 30 other times and the no name actor who played the villain. Guy Pearce is under used and valued as the secondary villain, and Toby kebbel is in the movie for 5 minutes, so if ur watching it because u like him, dont\n",
      "103 out of 162 found this helpful. Was this review helpful? Sign in to vote.\n",
      "Permalink\n",
      "All you will see is some action done by Vin D. Otherwise nothing else notable. Character after character keeps coming. Vin D evolved into superhero just like that. Audience will feel nothing of the evolution.\n",
      "81 out of 126 found this helpful. Was this review helpful? Sign in to vote.\n",
      "Permalink\n",
      "I think this is totally copied of VAN DAMME Universal soldier 1992 but universal soldier is much good then this one. Van DAMME do much better acting then diesel that time this is such a boring and assembling 90s movie\n",
      "91 out of 143 found this helpful. Was this review helpful? Sign in to vote.\n",
      "Permalink\n",
      "\n",
      "\n",
      "\n",
      "\"Bloodshot\" fails to resonate because it makes no effort to do anything new or even creative.\n",
      "\n",
      "These is a by the numbers \"Universal Soldier 1992\" knock off that's been given a cyber make over. Its not bad as such, its just been done before and to be honest, its been done, a whole lot better.\n",
      "\n",
      "This film essentially repeats itself over the course of its running time, with a slight divergence from the repetition, at the end. It tries to compensate for this by moving locales and investing in a lot of admittedly quite impressive, CGI.\n",
      "\n",
      "I suspect too, the investment in celebrity action star, in the form of Vin Diesal, was expected to make a splash. I'm not sure if its just me but celebrity means very little to me these days. Indeed, anyone with action chops, even a lesser known actor, could have taken the lead and I would not have been any more or less ambivalent.\n",
      "\n",
      "When all is said and done, a rather unremarkable action flick that's not that bad, its just not that good either.\n",
      "\n",
      "6/10.\n",
      "Only with 21st century CCG and vastly inferior!\n",
      "\n",
      "Nothing more to say apart that I have to add wordage for this post to qualify!\n",
      "80 out of 133 found this helpful. Was this review helpful? Sign in to vote.\n",
      "Permalink\n",
      "Bloodshot is an average movie that's brought down by its extremely generic and predictable plot with nothing shocking, smart or original. Its also got some inconsistent CG and action sequences that border on being incomprehensible but are relatively enjoyable. However, Vin Diesel is great and Eiza González and Guy Pearce are both really good. Its pretty well paced and the music by Steve Jablonsky is good.\n",
      "62 out of 102 found this helpful. Was this review helpful? Sign in to vote.\n",
      "Permalink\n"
     ]
    }
   ],
   "source": [
    "review = []\n",
    "review_f = driver.find_elements_by_class_name(\"content\")\n",
    "for post in review_f:\n",
    "    review.append(post.text)\n",
    "    print(post.text)"
   ]
  },
  {
   "cell_type": "code",
   "execution_count": 90,
   "metadata": {},
   "outputs": [],
   "source": [
    "data_tuples = list(zip(review_title,review))"
   ]
  },
  {
   "cell_type": "code",
   "execution_count": 91,
   "metadata": {},
   "outputs": [
    {
     "data": {
      "text/html": [
       "<div>\n",
       "<style scoped>\n",
       "    .dataframe tbody tr th:only-of-type {\n",
       "        vertical-align: middle;\n",
       "    }\n",
       "\n",
       "    .dataframe tbody tr th {\n",
       "        vertical-align: top;\n",
       "    }\n",
       "\n",
       "    .dataframe thead th {\n",
       "        text-align: right;\n",
       "    }\n",
       "</style>\n",
       "<table border=\"1\" class=\"dataframe\">\n",
       "  <thead>\n",
       "    <tr style=\"text-align: right;\">\n",
       "      <th></th>\n",
       "      <th>review_title</th>\n",
       "      <th>review</th>\n",
       "    </tr>\n",
       "  </thead>\n",
       "  <tbody>\n",
       "    <tr>\n",
       "      <th>0</th>\n",
       "      <td>Eliza González Was A Joy</td>\n",
       "      <td>I just got out of Bloodshot\\n\\nI didn't like i...</td>\n",
       "    </tr>\n",
       "    <tr>\n",
       "      <th>1</th>\n",
       "      <td>Avoid Theaters to Minimize the Risk of Catchin...</td>\n",
       "      <td>One must assume that while the world is at the...</td>\n",
       "    </tr>\n",
       "    <tr>\n",
       "      <th>2</th>\n",
       "      <td>Even for Vin Diesel this was terrible</td>\n",
       "      <td>Cheesy, super fake, terrible plot, terrible ac...</td>\n",
       "    </tr>\n",
       "    <tr>\n",
       "      <th>3</th>\n",
       "      <td>Gave Diesel a second chance... I was Right all...</td>\n",
       "      <td>I simply run from Vin Diesel movies. F&amp;F, XXX ...</td>\n",
       "    </tr>\n",
       "    <tr>\n",
       "      <th>4</th>\n",
       "      <td>I am not familiar with the comic but this film...</td>\n",
       "      <td>It works on a basic level of action spectacle,...</td>\n",
       "    </tr>\n",
       "  </tbody>\n",
       "</table>\n",
       "</div>"
      ],
      "text/plain": [
       "                                        review_title  \\\n",
       "0                           Eliza González Was A Joy   \n",
       "1  Avoid Theaters to Minimize the Risk of Catchin...   \n",
       "2              Even for Vin Diesel this was terrible   \n",
       "3  Gave Diesel a second chance... I was Right all...   \n",
       "4  I am not familiar with the comic but this film...   \n",
       "\n",
       "                                           review \\n  \n",
       "0  I just got out of Bloodshot\\n\\nI didn't like i...  \n",
       "1  One must assume that while the world is at the...  \n",
       "2  Cheesy, super fake, terrible plot, terrible ac...  \n",
       "3  I simply run from Vin Diesel movies. F&F, XXX ...  \n",
       "4  It works on a basic level of action spectacle,...  "
      ]
     },
     "execution_count": 91,
     "metadata": {},
     "output_type": "execute_result"
    }
   ],
   "source": [
    "df = pd.DataFrame(data_tuples,columns = ['review_title' ,'review \\n'])\n",
    "\n",
    "df.head()"
   ]
  },
  {
   "cell_type": "code",
   "execution_count": 92,
   "metadata": {},
   "outputs": [],
   "source": [
    "df['movie_name']  = 'BloodShot-2020'"
   ]
  },
  {
   "cell_type": "code",
   "execution_count": 93,
   "metadata": {},
   "outputs": [
    {
     "data": {
      "text/html": [
       "<div>\n",
       "<style scoped>\n",
       "    .dataframe tbody tr th:only-of-type {\n",
       "        vertical-align: middle;\n",
       "    }\n",
       "\n",
       "    .dataframe tbody tr th {\n",
       "        vertical-align: top;\n",
       "    }\n",
       "\n",
       "    .dataframe thead th {\n",
       "        text-align: right;\n",
       "    }\n",
       "</style>\n",
       "<table border=\"1\" class=\"dataframe\">\n",
       "  <thead>\n",
       "    <tr style=\"text-align: right;\">\n",
       "      <th></th>\n",
       "      <th>review_title</th>\n",
       "      <th>review</th>\n",
       "      <th>movie_name</th>\n",
       "    </tr>\n",
       "  </thead>\n",
       "  <tbody>\n",
       "    <tr>\n",
       "      <th>0</th>\n",
       "      <td>Eliza González Was A Joy</td>\n",
       "      <td>I just got out of Bloodshot\\n\\nI didn't like i...</td>\n",
       "      <td>BloodShot-2020</td>\n",
       "    </tr>\n",
       "    <tr>\n",
       "      <th>1</th>\n",
       "      <td>Avoid Theaters to Minimize the Risk of Catchin...</td>\n",
       "      <td>One must assume that while the world is at the...</td>\n",
       "      <td>BloodShot-2020</td>\n",
       "    </tr>\n",
       "    <tr>\n",
       "      <th>2</th>\n",
       "      <td>Even for Vin Diesel this was terrible</td>\n",
       "      <td>Cheesy, super fake, terrible plot, terrible ac...</td>\n",
       "      <td>BloodShot-2020</td>\n",
       "    </tr>\n",
       "    <tr>\n",
       "      <th>3</th>\n",
       "      <td>Gave Diesel a second chance... I was Right all...</td>\n",
       "      <td>I simply run from Vin Diesel movies. F&amp;F, XXX ...</td>\n",
       "      <td>BloodShot-2020</td>\n",
       "    </tr>\n",
       "    <tr>\n",
       "      <th>4</th>\n",
       "      <td>I am not familiar with the comic but this film...</td>\n",
       "      <td>It works on a basic level of action spectacle,...</td>\n",
       "      <td>BloodShot-2020</td>\n",
       "    </tr>\n",
       "  </tbody>\n",
       "</table>\n",
       "</div>"
      ],
      "text/plain": [
       "                                        review_title  \\\n",
       "0                           Eliza González Was A Joy   \n",
       "1  Avoid Theaters to Minimize the Risk of Catchin...   \n",
       "2              Even for Vin Diesel this was terrible   \n",
       "3  Gave Diesel a second chance... I was Right all...   \n",
       "4  I am not familiar with the comic but this film...   \n",
       "\n",
       "                                           review \\n      movie_name  \n",
       "0  I just got out of Bloodshot\\n\\nI didn't like i...  BloodShot-2020  \n",
       "1  One must assume that while the world is at the...  BloodShot-2020  \n",
       "2  Cheesy, super fake, terrible plot, terrible ac...  BloodShot-2020  \n",
       "3  I simply run from Vin Diesel movies. F&F, XXX ...  BloodShot-2020  \n",
       "4  It works on a basic level of action spectacle,...  BloodShot-2020  "
      ]
     },
     "execution_count": 93,
     "metadata": {},
     "output_type": "execute_result"
    }
   ],
   "source": [
    "df.head()"
   ]
  },
  {
   "cell_type": "code",
   "execution_count": 95,
   "metadata": {},
   "outputs": [],
   "source": [
    "df.to_csv('IMBD_most_popular_movies.csv', mode='a', header=False)"
   ]
  },
  {
   "cell_type": "code",
   "execution_count": null,
   "metadata": {},
   "outputs": [],
   "source": []
  },
  {
   "cell_type": "code",
   "execution_count": null,
   "metadata": {},
   "outputs": [],
   "source": []
  }
 ],
 "metadata": {
  "kernelspec": {
   "display_name": "Python 3",
   "language": "python",
   "name": "python3"
  },
  "language_info": {
   "codemirror_mode": {
    "name": "ipython",
    "version": 3
   },
   "file_extension": ".py",
   "mimetype": "text/x-python",
   "name": "python",
   "nbconvert_exporter": "python",
   "pygments_lexer": "ipython3",
   "version": "3.7.3"
  }
 },
 "nbformat": 4,
 "nbformat_minor": 2
}
