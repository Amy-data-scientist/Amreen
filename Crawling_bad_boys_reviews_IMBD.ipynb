{
 "cells": [
  {
   "cell_type": "code",
   "execution_count": 1,
   "metadata": {},
   "outputs": [],
   "source": [
    "from selenium import webdriver\n",
    "import pandas as pd\n",
    "import csv\n",
    "import numpy as np"
   ]
  },
  {
   "cell_type": "code",
   "execution_count": 2,
   "metadata": {},
   "outputs": [],
   "source": [
    "driver = webdriver.Chrome(r\"\\Downloads\\chromedriver.exe\")\n"
   ]
  },
  {
   "cell_type": "code",
   "execution_count": 3,
   "metadata": {},
   "outputs": [],
   "source": [
    "driver.get(\"https://www.imdb.com/title/tt1502397/reviews?ref_=tt_ql_3\")"
   ]
  },
  {
   "cell_type": "code",
   "execution_count": 4,
   "metadata": {},
   "outputs": [
    {
     "name": "stdout",
     "output_type": "stream",
     "text": [
      "Bad Boys for Life (2020)\n"
     ]
    }
   ],
   "source": [
    "movie_name = []\n",
    "review_m = driver.find_elements_by_class_name(\"parent\")\n",
    "for post in review_m:\n",
    "    movie_name.append(post.text)\n",
    "    print(post.text)"
   ]
  },
  {
   "cell_type": "code",
   "execution_count": 5,
   "metadata": {},
   "outputs": [
    {
     "name": "stdout",
     "output_type": "stream",
     "text": [
      "Seems Sony bought over 100 10/10 reviews on this title\n",
      "Thrown together\n",
      "Boring and Predictable\n",
      "Who writes this crap\n",
      "Terrible.\n",
      "Bad movie for life\n",
      "10's..Really?? Insult to the 1st two movies.\n",
      "Bad script, overdone jokes and cheap CGI\n",
      "Bad Boys Derailed\n",
      "No energy\n",
      "I think this is the worst movie I've ever seen...\n",
      "The clue is in the title.\n",
      "Walked in with low expectation, walked out satisfied.\n",
      "Terrible terrible movie\n",
      "Realy Bad Bad Boys\n",
      "A weak watered-down version of a Bad Boys movie\n",
      "Third film, third best\n",
      "Worst movie ever (after the mist)\n",
      "Redefines the meaning of stupid\n",
      "Doesn't make sense\n",
      "10/10's!!?? What the heck is going on here!?\n",
      "Ride together, Die Together. \"BAD BOYS for Life\"\n",
      "sad boys for life\n",
      "I MADE AN ACCOUNT JUST FOR THIS\n",
      "All I have to say is WOW!\n",
      "\n"
     ]
    }
   ],
   "source": [
    "review_title = []\n",
    "review_t = driver.find_elements_by_class_name(\"title\")\n",
    "for post in review_t:\n",
    "    review_title.append(post.text)\n",
    "    print(post.text)"
   ]
  },
  {
   "cell_type": "code",
   "execution_count": 6,
   "metadata": {},
   "outputs": [
    {
     "name": "stdout",
     "output_type": "stream",
     "text": [
      "First off: The moderation on this website is absolutely terrible. I just had a look at the 10/10 reviews for this movie, and there's over 150 written 10/10 reviews from accounts that have 'Bad Boys for Life' as their ONLY review... this is a very very strong indicator of a fake review. This movie's rating currently stands on 7.2 but if you take all the fake 10/10 reviews out, then this movie's ACTUAL score is more towards 6 or 5.5\n",
      "\n",
      "Anyways, let me continue with my review:\n",
      "\n",
      "Do you recognize the names 'Adil El Arbi and Bilall Fallah' at all? No? Me neither... But for some reason the production company chose to use these unknown guys, instead of Michael Bay who did the first 2 movies.\n",
      "\n",
      "This movie spoils the reputation that Bad Boys 1 & 2 had. This movie is significantly worse than the first two. It's very unrealistic in many scenes and it's extremely predictable too.\n",
      "\n",
      "They also use more CGI fire in this movie than anything else. I'm sure that 10% of the movie's budget went to animate all the damn fire in this movie. If you wanna use 2nd rate directors, then you'll get 2nd rate results.\n",
      "\n",
      "This is one of those sequels which we did not need. A bunch of endless shooting, unnecessary chases, senseless action. This is all there is to this movie. The acting is boring, the writing is horrible and story is even worse. It is heartbreaking to see that this movie has a rating of 7. It is an insult to cinema. Save your time and money. STAY AWAY from bad boys FOR LIFE!!!\n",
      "196 out of 266 found this helpful. Was this review helpful? Sign in to vote.\n",
      "Permalink\n",
      "A terrible movie. Script horrible! Numerous goofs! Did they get paid for this? Not even entertaining. No acting....just fooling around. Plot? Copied and predictable. I'm nauseated.\n",
      "72 out of 93 found this helpful. Was this review helpful? Sign in to vote.\n",
      "Permalink\n",
      "\n",
      "Bad boys for life was shot over the weekend by a group of special needs high school sophomores. No need to worry that you are missing the plot because there isn't one.\n",
      "117 out of 162 found this helpful. Was this review helpful? Sign in to vote.\n",
      "Permalink\n",
      "I love these films and this is nowhere close to the 1st two. It doesnt even feel like a BB's movie. Its sluggish unfunny with a tv movie feel about it. The chemistry between Will Smith and Martin Lawrence is not there as nearly every joke is flat and feels like its trying REAL hard. The original cast just looks tired and in most scenes it feels it. Its a darker movie that drowns in despair for large part of the film and Smith and Lawrence dont have the comedy sparring of old to balance it out. Believe me this is not a 10, its barely a 4. For me its BB's 1 and 2 and thats when it ended. Sadly\n",
      "91 out of 125 found this helpful. Was this review helpful? Sign in to vote.\n",
      "Permalink\n",
      "Very cheap CGI and very bad acting coming from Lawrence ruined 2 hours of my life. I really need to forget this dumb movie. Probably likable to people with lack of good taste.\n",
      "77 out of 105 found this helpful. Was this review helpful? Sign in to vote.\n",
      "Permalink\n",
      "I never thought I would say this...but I wish Michael Bay had directed this. Maybe the earlier entries hold something dear to his heart and he wouldn't have allowed this to go off the rails.\n",
      "\n",
      "The biggest casualty is the riffing between the Lawrence and Smith, which practically rips the soul right out of the franchise. The laughs from the first two movies came from the strong chemistry between the two leads and how they could argue in the middle of gun fights, car chases, etc. Here they just sound like an old married couple who have grown tired of each other.\n",
      "\n",
      "The other casualty is the action scenes. The great Sam Peckinpah once said of the violence in his films that he wanted the audience to feel the impact of getting shot. Modern day use of CGI and such does the exact opposite. It feels more like you're watching somebody else play a video game. While some praise the visuals, I criticize its effect of pushing the viewer further away rather than drawing them in.\n",
      "\n",
      "This could have been like Lethal Weapon IV and had some fun with its theme of the loose cannon dealing with aging. Instead its more like Beverly Hills Cop III and becomes a sad entry in an otherwise solid franchise.\n",
      "Two old men, the energy is not the same. It was boring right from the start and using cheap cgi made it even worser.\n",
      "74 out of 101 found this helpful. Was this review helpful? Sign in to vote.\n",
      "Permalink\n",
      "\n",
      "Bad acting, worse jokes, terrible script. Martins acting was so cringy, i felt like punching myself.\n",
      "19 out of 24 found this helpful. Was this review helpful? Sign in to vote.\n",
      "Permalink\n",
      "Will Smith and Martin Lawrence steal the show with other talented actors and some eye candy along the way with good budget action. I cant give away too much but this movie was great and lived up to the hype of Bad Boys 1 and 2 respectively.\n",
      "299 out of 469 found this helpful. Was this review helpful? Sign in to vote.\n",
      "Permalink\n",
      "I can't remember the last time I saw a movie this bad in the theatre. I didn't smile once. Bad humor. Lawrence has never been funny and now he's so old and fat, he can barely move. Watch as they cut away every time he takes more than four steps; probably because he was out of breath. Smith is as usual Smith but he can't do anything with the 4th grade script. The action scenes are boring and stupid. Any rational adult claiming to line this should be ashamed and embarrassed. For the knuckle dragging Fast and Furious fans only. What an abomination.\n",
      "93 out of 138 found this helpful. Was this review helpful? Sign in to vote.\n",
      "Permalink\n",
      "Just Bad , like realy bad, like realy realy bad. Bad story, bad directing compared with realy bad jokes.\n",
      "61 out of 88 found this helpful. Was this review helpful? Sign in to vote.\n",
      "Permalink\n",
      "This was a disappointing movie all around. The action, jokes, and even chemistry between Martin and Will felt forced as if they were going through the motions. The director seemed like he was trying to be Michael Bay but couldn't quite make it. Marcus was even more of a vagina (censored it) than usual and gets less action than ever before. The ride together mantra that seems constantly repeated throughout the film made it feel like I was watching a boring version of a Fast and Furious movie. Make no mistake I love the Bad Boys franchise. But this film is a weak watered-down version of Bad Boys. If they do make a part 4 which they are alluding to I certainly hope they make it better than this one.\n",
      "30 out of 41 found this helpful. Was this review helpful? Sign in to vote.\n",
      "Permalink\n",
      "The reviews for this film appear very dubious, a bunch of 1s with descriptions why and a smattering of 10s that simply say great film but with no reason why. Compared with the first 2 films this one is the worst; although entertaining and sparkling with all the action, humour and dialogue, it is just not quite there in both plot and characters. I liken it to Jaws whereby by the time Jaws III came out the plots had dried up. This sequel has a lot of that, using a well trodden plot of baddies trying to kill one of the lead characters and the near misses, stunts, wreckage and jokes to make this into 2 hours. Worth watching but not the same as I and II.\n",
      "5 out of 5 found this helpful. Was this review helpful? Sign in to vote.\n",
      "Permalink\n",
      "My first review ever: They ruined 20 years of my life with this film! What a bad story...what a bad plot...what a bad directing....was there even action in this movie or did they just speak nonsense things for 2 hours?!?\n",
      "45 out of 67 found this helpful. Was this review helpful? Sign in to vote.\n",
      "Permalink\n",
      "The worst movie I watched in the past ten years. Over the top situations, dumb and unappealing characters, laughable plot...without the laughs to go with it. I would have gladly walked out of this unbearable display of cliches had I not been with my wife.\n",
      "38 out of 56 found this helpful. Was this review helpful? Sign in to vote.\n",
      "Permalink\n",
      "\n",
      "I feel compelled to add my two cents to this review section, as it appears to be plagued with bot reviewers giving this rather terrible movie 10/10 ratings. Have a look through the review section, there are just waves and waves of 10/10 reviews with identical \"users found this helpful numbers\", which I think have been balanced out by actual people down-voting them (good on you).\n",
      "\n",
      "This movie somehow manages to be a blemish on the strictly average, but good in a b-grade movie sort of a way, legacy of the Bad Boys franchise. The first movie was okay, the second embraced its silliness completely and in my opinion, while very crass and low-brow at times, is very entertaining and re-watchable. The action sequences are unique and without having watched it in years I still remember the \"Reggie\" scene, the shootout with the Haitian(?) gangsters through the wall, Marcus getting shot the mortuary scene, the big shootout at the end and many other things. Bad Boys two also felt like a more comprehensively planned out movie and was as tonally consistent as it could be.\n",
      "\n",
      "Bad Boys For Life is terrible, Smith and Lawrences characters have become incredibly cliche parodies of their former selves, which was already a pretty cliche buddy-cop dynamic. There are some awful narratives propagating through this movie, with Marcus being an even bigger wuss than ever and Mike being an even bigger moron than ever. All the new characters are laughably one-dimensional and make for some pretty painful dialogue and moments. Most of the action is not even laughably bad or ridiculous, its almost sad how bad or stupid some of the action sequences were. One particular moment that made me question what I was seeing was when Will Smith slid along the ground on a mechanic's creeper (skateboard thing) while spray paint cans explode behind him, it looked so clunky, almost as if they couldn't be bothered trying a few takes with it.\n",
      "\n",
      "Apologies for the rather poorly formatted rant, but to be honest this review is kind of befitting of the movie that it regards. Bad Boys For Life was a bafflingly poor and disappointing entry into this franchise. I'm all for dumb action-comedies, but this movie is weighted heavily towards the \"dumb\" side with the \"comedy\" and \"action\" aspects looking rather malnutritioned by comparison. I actually don't know how Will Smith and Martin Lawrence were okay with this script and the final product, but I suppose neither actor has actually been very good at picking roles or signing off on good movies. Hopefully this review provides a bit more of a perspective on the movie than all the \"10/10 The Bad Boys are Back, this actor/actress is good, the comedy/action/emotion gripped me by the nipples, you wont be disappointed, best movie I have seen in 2020\" reviews that are plaguing the Bad Boys For Life IMDB review section.\n",
      "Bad Boys for Life is an incredible action packed comedy to enjoy for the whole audience who wanted the new Bad Boys movie. It's more action packed than the second, and it's hilariously funny. Will Smith and Martin Lawrence are back together, and nailed their main characters again. Vanessa Hudgens did pretty good working with the main cast members, and she's hot. And it's a good thing that I never forget this quote from the second film.\n",
      "\n",
      "We ride together, we die together. \"Bad Boys for Life\".\n",
      "224 out of 387 found this helpful. Was this review helpful? Sign in to vote.\n",
      "Permalink\n",
      "Boring, cringe, predictable repetitive hollywood crap. Let's hope this is the first step into the downfall of these over the top, lazy ghetto meets law enforcement fusion action movie that are more and more ridiculous. I cannot believe people pay to watch these movies. I have to imagine the reviewers boosting this movie score are actually the employees of the studios under pressure by their boss who's over their shoulder as they they rate this abomination of a fast food movie.\n",
      "14 out of 19 found this helpful. Was this review helpful? Sign in to vote.\n",
      "Permalink\n",
      "Where do I start?!?\n",
      "\n",
      "I felt like I was watching a new fast and furious movie for 80% of it. The writing is among the worst I've ever seen. Total shambles and I am very surprised Will Smith and Martin Lawrence would agree to make this movie.\n",
      "\n",
      "The plot was dreadful and the delivery not much better.\n",
      "\n",
      "I am completely baffled by the good reviews this movie is receiving.\n",
      "\n",
      "Being how much I hold the first 2 movies in high regard (especially number 1). This one absolutely tarnishes its legacy for me. If you are a big fan of the first 2 then don't expect anything like that with this one.\n",
      "\n",
      "I give it a 2 stars for the few bits of humour and nostalgia the movie had. I don't recall ever being more disappointed with a sequel.\n",
      "I wasn't sure what to expect but I know that I love Martin and Will Smith! I have been waiting for this for a while now and I was not disappointed at all. This movie had a little bit of everything. It had action, emotional moments, comedy, and suspense. I cried, laughed, and bit my nails a few times during the suspenseful scenes. I wouldn't mind watching it on the big screen again. It was worth every second and every penny.\n",
      "162 out of 299 found this helpful. Was this review helpful? Sign in to vote.\n",
      "Permalink\n"
     ]
    }
   ],
   "source": [
    "review = []\n",
    "review_f = driver.find_elements_by_class_name(\"content\")\n",
    "for post in review_f:\n",
    "    review.append(post.text)\n",
    "    print(post.text)"
   ]
  },
  {
   "cell_type": "code",
   "execution_count": 7,
   "metadata": {},
   "outputs": [],
   "source": [
    "data_tuples = list(zip(review_title,review))"
   ]
  },
  {
   "cell_type": "code",
   "execution_count": 8,
   "metadata": {},
   "outputs": [
    {
     "data": {
      "text/html": [
       "<div>\n",
       "<style scoped>\n",
       "    .dataframe tbody tr th:only-of-type {\n",
       "        vertical-align: middle;\n",
       "    }\n",
       "\n",
       "    .dataframe tbody tr th {\n",
       "        vertical-align: top;\n",
       "    }\n",
       "\n",
       "    .dataframe thead th {\n",
       "        text-align: right;\n",
       "    }\n",
       "</style>\n",
       "<table border=\"1\" class=\"dataframe\">\n",
       "  <thead>\n",
       "    <tr style=\"text-align: right;\">\n",
       "      <th></th>\n",
       "      <th>review_title</th>\n",
       "      <th>review</th>\n",
       "    </tr>\n",
       "  </thead>\n",
       "  <tbody>\n",
       "    <tr>\n",
       "      <th>0</th>\n",
       "      <td>Seems Sony bought over 100 10/10 reviews on th...</td>\n",
       "      <td>First off: The moderation on this website is a...</td>\n",
       "    </tr>\n",
       "    <tr>\n",
       "      <th>1</th>\n",
       "      <td>Thrown together</td>\n",
       "      <td></td>\n",
       "    </tr>\n",
       "    <tr>\n",
       "      <th>2</th>\n",
       "      <td>Boring and Predictable</td>\n",
       "      <td>This is one of those sequels which we did not ...</td>\n",
       "    </tr>\n",
       "    <tr>\n",
       "      <th>3</th>\n",
       "      <td>Who writes this crap</td>\n",
       "      <td>A terrible movie. Script horrible! Numerous go...</td>\n",
       "    </tr>\n",
       "    <tr>\n",
       "      <th>4</th>\n",
       "      <td>Terrible.</td>\n",
       "      <td></td>\n",
       "    </tr>\n",
       "  </tbody>\n",
       "</table>\n",
       "</div>"
      ],
      "text/plain": [
       "                                        review_title  \\\n",
       "0  Seems Sony bought over 100 10/10 reviews on th...   \n",
       "1                                    Thrown together   \n",
       "2                             Boring and Predictable   \n",
       "3                               Who writes this crap   \n",
       "4                                          Terrible.   \n",
       "\n",
       "                                           review \\n  \n",
       "0  First off: The moderation on this website is a...  \n",
       "1                                                     \n",
       "2  This is one of those sequels which we did not ...  \n",
       "3  A terrible movie. Script horrible! Numerous go...  \n",
       "4                                                     "
      ]
     },
     "execution_count": 8,
     "metadata": {},
     "output_type": "execute_result"
    }
   ],
   "source": [
    "df = pd.DataFrame(data_tuples,columns = ['review_title' ,'review \\n'])\n",
    "\n",
    "df.head()"
   ]
  },
  {
   "cell_type": "code",
   "execution_count": 9,
   "metadata": {},
   "outputs": [],
   "source": [
    "df['movie_name']  = ' Bad Boys for Life (2020)'"
   ]
  },
  {
   "cell_type": "code",
   "execution_count": 10,
   "metadata": {},
   "outputs": [
    {
     "data": {
      "text/html": [
       "<div>\n",
       "<style scoped>\n",
       "    .dataframe tbody tr th:only-of-type {\n",
       "        vertical-align: middle;\n",
       "    }\n",
       "\n",
       "    .dataframe tbody tr th {\n",
       "        vertical-align: top;\n",
       "    }\n",
       "\n",
       "    .dataframe thead th {\n",
       "        text-align: right;\n",
       "    }\n",
       "</style>\n",
       "<table border=\"1\" class=\"dataframe\">\n",
       "  <thead>\n",
       "    <tr style=\"text-align: right;\">\n",
       "      <th></th>\n",
       "      <th>review_title</th>\n",
       "      <th>review</th>\n",
       "      <th>movie_name</th>\n",
       "    </tr>\n",
       "  </thead>\n",
       "  <tbody>\n",
       "    <tr>\n",
       "      <th>0</th>\n",
       "      <td>Seems Sony bought over 100 10/10 reviews on th...</td>\n",
       "      <td>First off: The moderation on this website is a...</td>\n",
       "      <td>Bad Boys for Life (2020)</td>\n",
       "    </tr>\n",
       "    <tr>\n",
       "      <th>1</th>\n",
       "      <td>Thrown together</td>\n",
       "      <td></td>\n",
       "      <td>Bad Boys for Life (2020)</td>\n",
       "    </tr>\n",
       "    <tr>\n",
       "      <th>2</th>\n",
       "      <td>Boring and Predictable</td>\n",
       "      <td>This is one of those sequels which we did not ...</td>\n",
       "      <td>Bad Boys for Life (2020)</td>\n",
       "    </tr>\n",
       "    <tr>\n",
       "      <th>3</th>\n",
       "      <td>Who writes this crap</td>\n",
       "      <td>A terrible movie. Script horrible! Numerous go...</td>\n",
       "      <td>Bad Boys for Life (2020)</td>\n",
       "    </tr>\n",
       "    <tr>\n",
       "      <th>4</th>\n",
       "      <td>Terrible.</td>\n",
       "      <td></td>\n",
       "      <td>Bad Boys for Life (2020)</td>\n",
       "    </tr>\n",
       "  </tbody>\n",
       "</table>\n",
       "</div>"
      ],
      "text/plain": [
       "                                        review_title  \\\n",
       "0  Seems Sony bought over 100 10/10 reviews on th...   \n",
       "1                                    Thrown together   \n",
       "2                             Boring and Predictable   \n",
       "3                               Who writes this crap   \n",
       "4                                          Terrible.   \n",
       "\n",
       "                                           review \\n  \\\n",
       "0  First off: The moderation on this website is a...   \n",
       "1                                                      \n",
       "2  This is one of those sequels which we did not ...   \n",
       "3  A terrible movie. Script horrible! Numerous go...   \n",
       "4                                                      \n",
       "\n",
       "                  movie_name  \n",
       "0   Bad Boys for Life (2020)  \n",
       "1   Bad Boys for Life (2020)  \n",
       "2   Bad Boys for Life (2020)  \n",
       "3   Bad Boys for Life (2020)  \n",
       "4   Bad Boys for Life (2020)  "
      ]
     },
     "execution_count": 10,
     "metadata": {},
     "output_type": "execute_result"
    }
   ],
   "source": [
    "df.head()"
   ]
  },
  {
   "cell_type": "code",
   "execution_count": 11,
   "metadata": {},
   "outputs": [],
   "source": [
    "df.to_csv('IMBD_most_popular_movies.csv', mode='a', header=False)"
   ]
  },
  {
   "cell_type": "code",
   "execution_count": null,
   "metadata": {},
   "outputs": [],
   "source": []
  }
 ],
 "metadata": {
  "kernelspec": {
   "display_name": "Python 3",
   "language": "python",
   "name": "python3"
  },
  "language_info": {
   "codemirror_mode": {
    "name": "ipython",
    "version": 3
   },
   "file_extension": ".py",
   "mimetype": "text/x-python",
   "name": "python",
   "nbconvert_exporter": "python",
   "pygments_lexer": "ipython3",
   "version": "3.7.3"
  }
 },
 "nbformat": 4,
 "nbformat_minor": 2
}
