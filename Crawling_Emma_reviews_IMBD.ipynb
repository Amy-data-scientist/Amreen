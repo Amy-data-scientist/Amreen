{
 "cells": [
  {
   "cell_type": "code",
   "execution_count": 1,
   "metadata": {},
   "outputs": [],
   "source": [
    "from selenium import webdriver\n",
    "import pandas as pd\n",
    "import csv\n",
    "import numpy as np"
   ]
  },
  {
   "cell_type": "code",
   "execution_count": 2,
   "metadata": {},
   "outputs": [],
   "source": [
    "driver = webdriver.Chrome(r\"C:\\Downloads\\chromedriver.exe\")\n"
   ]
  },
  {
   "cell_type": "code",
   "execution_count": 3,
   "metadata": {},
   "outputs": [],
   "source": [
    "driver.get(\"https://www.imdb.com/title/tt9214832/reviews?ref_=tt_ql_3\")"
   ]
  },
  {
   "cell_type": "code",
   "execution_count": 4,
   "metadata": {},
   "outputs": [
    {
     "name": "stdout",
     "output_type": "stream",
     "text": [
      "Emma. (2020)\n"
     ]
    }
   ],
   "source": [
    "movie_name = []\n",
    "review_m = driver.find_elements_by_class_name(\"parent\")\n",
    "for post in review_m:\n",
    "    movie_name.append(post.text)\n",
    "    print(post.text)"
   ]
  },
  {
   "cell_type": "code",
   "execution_count": 5,
   "metadata": {},
   "outputs": [
    {
     "name": "stdout",
     "output_type": "stream",
     "text": [
      "All bonnet and no breeches\n",
      "As someone who read the book, I thought this was fantastic\n",
      "Beautiful to look at, but shallow\n",
      "Deeply disappointing\n",
      "Can't get the basics right\n",
      "Sublime to look at, painful to watch .....\n",
      "Not the best adaptation\n",
      "Simply Sublime.\n",
      "Beautiful sets and cinematography- that's it\n",
      "Well worth seeing\n",
      "Exactly as it should be\n",
      "A Sheer Delight\n",
      "Fantastic\n",
      "Odd, Bizarre, and \"Badly done indeed\"\n",
      "A bad parody of a romantic classic\n",
      "Excellent & Exquisite - A Must See\n",
      "Dull\n",
      "I thought it would never end\n",
      "Beautiful costumes and that's it!\n",
      "If you suffer from insomnia I recommend this film\n",
      "An opulent prop does not compensate bad storytelling\n",
      "Perfectly Formulaic\n",
      "A delight\n",
      "Snooze......\n",
      "too dreary for words\n",
      "\n"
     ]
    }
   ],
   "source": [
    "review_title = []\n",
    "review_t = driver.find_elements_by_class_name(\"title\")\n",
    "for post in review_t:\n",
    "    review_title.append(post.text)\n",
    "    print(post.text)"
   ]
  },
  {
   "cell_type": "code",
   "execution_count": 6,
   "metadata": {},
   "outputs": [
    {
     "name": "stdout",
     "output_type": "stream",
     "text": [
      "Autumn de Wilde's Emma, with Anya Taylor-Joy and Johnny Flynn, is not my cup of tea, I'm afraid. My review might be influenced by how much I love Jane Austen's novel and how many times I've watched the 2009 miniseries, but I always give every adaptation a try. And I can't really judge if what I was watching would make sense to an Austen virgin, shall we say, so what seemed disjointed and rushed to me might work perfectly for others.\n",
      "\n",
      "I'll start with the good: I loved the costumes and the interiors, which were sumptuously beautiful. The wood-shaving ringlets on the women and the high collars on the men were distracting, though. And of course Anya Taylor-Joy made for a quirky and regal Emma (Austenites will be pleased to note that she has perfect posture.) I also loved how Anya Taylor-Joy and Amber Anderson as Jane actually played the pianoforte during the Coles' party (but could have done without Mr Knightley's contribution, when Frank Churchill is supposed to be singing with Jane). BUT. The music was horrendously jarring, alternating between Hanna Barbera cartoon incidentals and freakish folk music. The supporting characters suffered once again - I couldn't honestly tell the difference between Mrs Weston, Mrs Knightley and Mrs Elton, except that Isabella was for some reason a complete cow in this version, and Mr Elton and Frank Churchill were also interchangeable (perhaps that's why Elton never seemed to be without his dog collar, to help tell them apart). Bill Nighy's Mr Woodhouse was a weird combination of fusspot and Edwardian fop, and Johnny Flynn's Mr Knightley strayed way off character by stripping off in his first scene and never really recovered for me. (Apparently, that was a way of 'humanising' the character because he is always 'mansplaining' - very woke.) Anya wasn't kidding when she talked about the focus being on 'bodily functions', by the way - not only are we 'treated' to Knightley's backside, but Emma hitches up her skirts to warm her bare arse by the fire, and the 'cannot make speeches' proposal scene is a bloody mess. Literally. The script leans so heavily on lines from the novel that I think Eleanor Catton thought she was writing an essay for an English Lit exam - Austenites will be happy, but there was no feeling behind any of the grand words. When Emma and Mr Knightley argue, they constantly shout over each other, for instance, instead of the usual playful back and forth.\n",
      "\n",
      "The whole film felt like a weird mashup between a stage musical and a Victorian farce, with choreographed servants and slapstick humour. There was also a lot of 1996 Emma in there, taking pastel and pastoral scenery from the film and Andrew Davies' wearisome obsession with wealth from the television two-parter. Not on a sliding scale of Emma and Miss Bates, but in how Mr Knightley's strawberry picking party turns into a National Trust promotional video for Wilton House, Salisbury. There's also a lot of emphasis on servants dressing their masters and mistresses, presumably to fit in more scenes of 'natural nudity'.\n",
      "\n",
      "I went, I watched, I did my duty to Emma. But I think I'll stick with the 2009 miniseries.\n",
      "Yes, to prepare myself for this film I read the book. It was long, it was difficult to read- but it was delightful masterpiece which I grew to love at the end. This film felt unneeded when the first trailer dropped (How many film adaptions of this story are there? 7?) but I must say that in a world drowning in superhero sci-fi movies, prequels, sequels, and reboots- this was a breath of fresh air. The chemistry between the characters and the sublime and subtle direction paired with the intelligent dialogue and supreme Anya Taylor-Joy as Emma (her performance give Gwyenith Palrow a run for her money) are all testament that we need a film like this- not a physical action trhiller, but rather an intelligent comedy with great development.\n",
      "30 out of 37 found this helpful. Was this review helpful? Sign in to vote.\n",
      "Permalink\n",
      "It looks gorgeous - fashions, interiors, etc - and it has a good cast. But it lacks the depth, subtle observation and wit of Austen's superb novel. Some of the characters are more like caricatures (Mr Woodhouse and Mr Elton, in particular). This works well in Dickens but not for Austen. It is difficult, admittedly, within the space of a two-hour movie to show character development and to do justice to the subplots, consequently some aspects of the story seemed very rushed. Yet the director wastes valuable screen time showing people walking down corridors, strolling about in the grounds, etc. Also - huge problem here - Anya Taylor-Joy and Johnny Flynn (both good actors) have a serious lack of on-screen chemistry. Disappointing! Can't hold a candle to the 1996 version starting Gwynneth Paltrow and Jeremy Northam, in my view.\n",
      "68 out of 90 found this helpful. Was this review helpful? Sign in to vote.\n",
      "Permalink\n",
      "Emma is one of my favorite Jane Austin novels. This production is a travesty overall. The costumes and hair and locations are sumptuous and beautiful but do little to cover the fact that the director and perhaps lead actress did not understand the book at all.\n",
      "\n",
      "Emma is meant to be charming and sweet if wrong headed and a bit spoiled. Her heart is good and she's usually incredibly kind except when under the influence of Frank Churchill and she immediately regrets her actions.\n",
      "\n",
      "In this version, Emma is rendered to be a superscillious brat with no real thought for anyone but herself. Bill Nighy is seriously underused and is one of the bright spots in the film. Miranda Hart is the only other bright spot. I'm not sure what on earth they were thinking. 2 hours of film went by without hitting in any part of the story that would lead to coherence. There was zero chemistry between any of the characters. They took a story that's light and charming and made it heavy and distasteful.\n",
      "\n",
      "I'd definitely not recommend this to either readers of the book or anyone else because they definitely will not have even a fraction of an understanding of the tone of the book and wonder why on earth anyone could care about this story at all.\n",
      "\n",
      "How very sad that they could have done a modern remake like this and just completely miss the mark.\n",
      "Some fatal attraction means I must watch new Jane Austen screen adaptations although I find them invariably less than satisfying. This version of Emma is no exception as its faults are egregious. I could tell almost straight away it was going to be gimmicky in the way that filmmakers of dubious merit think they can add bits of business to wonderful classics, or distort things completely, as an \"improvement\". I fantasize that, in a better world, there might be some court to hear applications to make screen adaptations, to determine whether the filmmaker actually understands what it is about the story and the characters that give these works of literature their timeless appeal. So often they don't, as they change and destroy what is so fundamental to the success of the original. Somebody give them a \"Cliff's Notes\" to read, at the very least! Emma Woodhouse, the heroine of \"Emma\" is a likeable, open-natured young woman, who has faults but learns to become a better person. That's in the novel, anyway. The Emma depicted in this film wears alternately an arrogant or sulky expression, seems to have selfish and nasty motives and thoroughly deserves to be taken down a peg, which more or less happens. Newsflash to the filmmaker - she is such an unpleasant person that I don't care. Mr Knightley is a calm, confident sophisticated man of the world, someone of deep and genuine feelings - and dead sexy with it. Johnny Flynn's version is a nice young man but something of a klutz. How does he even like this hardfaced Emma? - again you've lost me. I have to contrast the failure of the lead characters to pull their weight in delivering the story, with the Romola Garai/Jonny Lee Miller version where they got it so right. To carry on with the catalogue of \"wrongness\" in this version, Frank Churchill, an important and attractive character in the story, is presented by an actor lacking in looks and charm, a complete nonentity. To mention some minor characters, I fully expected Bill Nighy to ham it up with the Mr Woodhouse character, and he does. But why oh why do they have to make Emma's sister Isabella and brother-in-law John Knightley unpleasant and unhappy people - it's so wrong! While not a major theme, their domestic happiness is a beacon to Emma and Mr Knightley to follow their example, and recognize their destiny. I could go on - Harriet Smith isn't pretty, Miss Bates isn't talkative enough, and Mr Elton is a grinning gargoyle. If I pull myself up with an effort to acknowledge the positives of the film, there are beautiful landscapes and house interiors, and great costumes and hairstyles, real eye candy. The dialogue is reasonably respectful of the original. But I wasn't happy for a minute watching the film. I am entitled to have high expectations of a Jane Austen adaptation, and was majorly disappointed, so only a 4/10.\n",
      "If you love pantomime, you'll love the latest incarnation of Jane Austen's Emma. If you've read the book or seen the TVC series or last film adaption, all I can say is if you set great expectations your bound to be disappointed with this latest incarnation that leaves you walking out of the cinema saying why .......\n",
      "\n",
      "The film is beautifully shot, the costumes and cinematographic should win awards .... where it does fall over is the acting .... Jane was making a parody of the upper and middle classes ... but this version slams people over the head with the delivery and over dramatised characterisation of the characters, there is no humanity or redeemable features in any of them ... just comical and inane pauses, over dramatisation .... If you come out of a movie vainly trying to find its redeemable features like Miranda Hart's version of Miss Bates or Connor Swindells Mr Martin, I am struggling to find any improvement of past versions of this novel. It does look stunning but like many beautiful things in life lacked any substance, character or depth.\n",
      "Unfortunately for me, this version of Emma was more a miss than a hit. It was too slow & failed to draw me in. Some of the scenes were just too long or superfluous, making me wish for them to hurry up to get to the good bits. Visually speaking it was lovely & depicted the Regency period well. But the soundtrack was often jarring & distracting rather than enhancing a scene. The odd choir singing is a case in point.\n",
      "\n",
      "I could not like Emma herself. Anya Taylor-Joy was miscast, in my opinion. I'm not sure why. Perhaps it was her unusual eyes? I know I disliked her hairstyles intensely. Horrid! I couldn't connect with her character.\n",
      "\n",
      "I thought some of the characters were wishy washy. You would not know that Emma's sister Isabella is married to Mr Knightly's brother John. Or perhaps I blinked & missed it? Jane Fairfax was fairly insipid & there was not much to indicate that Frank Churchill was a bit of a cad weaving elaborate lies. Bill Nighy's Mr Woodhouse was too childish & effeminate for my liking. Mr Knightly, whilst likeable, was a bit childish for his age & station & not a match for this particular Emma & I could picture her walking all over him.\n",
      "\n",
      "The actors I did enjoy were the characters of Mrs Weston, Harriet Smith & Miss Bates, played by Gemma Whelan, Mia Goth & Miranda Hart. Gemma Whelan of Game of Thrones fame, handled Mrs Weston with dignity & grace. Harriet was delightful & suitably innocent & gullible. My favourite character in this adaption was Miranda Hart's portrayal of the unfortunate Miss Bates. Miranda is an expert at playing socially awkward characters & did not disappoint with Miss Bates. Her embarrassment & vulnerability at Emma's spiteful words at the picnic brought me to tears. As did her graciousness in accepting Emma's attempt at an apology. Bravo Miranda!\n",
      "\n",
      "So there were some redeeming scenes throughout the movie. But overall, it fell short of my expectations & the 1996 version of Emma remains my favourite to date.\n",
      "I loved the look of \"Emma\" from the trailer. And I was not disappointed. It is a simply sublime piece of comic entertainment.\n",
      "\n",
      "Emma Woodhouse (Anya Taylor-Joy) is a rich, privileged 21 year-old looking after her elderly and quirky father (Bill Nighy) in the family stately home. She has never loved, despite the persistent presence of 'family friend' George Knightley (Johnny Flynn), but finds it entertaining to engage in matchmaking, particularly in respect to her somewhat lower class friend Harriet Smith (Mia Goth). Emma has high ambitions for Harriet... ideas significantly above what her social station and looks might suggest.\n",
      "\n",
      "Emma has her sights on a dream.... the mystery man Frank Churchill (Callum Turner), son of wealthy local landowner Mr Weston (Rupert Graves). She has never actually met him, but is obsessed with his myth. #fangirl. As a source of immense annoyance to her, but often a source of valuable information on news of Churchill, is the village 'old maid' Miss Bates (Miranda Hart). \"Such fun\"!\n",
      "\n",
      "But Emma's perfect life is about to face sticky times, as her machinations fail to yield the expected results and a stray comment, at a disastrous picnic, threatens to damage both her reputation and her social standing.\n",
      "\n",
      "If you like your movies full of action and suspense, you are digging in the wrong place. \"Emma\" is slow... glacially slow... wallowing in beautiful bucolic scenes (with superb cinematography by Christopher Blauvelt); gorgeous costumes by Alexandra Byrne; and hair styling by Marese Langan.\n",
      "\n",
      "The movie also benefits from a joyfully tight and funny script by debut screenwriter Eleanor Catton (a Man-Booker prize winner). This picks relentlessly at the strata of the class system set up by Jane Austen's novel: \"Every body has their level\" spits spurned suitor Mr Elton (Josh O'Connor).\n",
      "\n",
      "I know Anya Taylor-Joy as the spirited Casey from \"Split\" and \"Glass\": she was impressive in \"Split\"; less so for me in the disappointing \"Glass\". But here, I found her UTTERLY mesmerising. She has such striking features - those eyes! - that she fully inhabits the role of the beautiful heiress who haunts multiple men sequentially. I even muttered the word \"Oscar nomination\" at the end of the film: though we are too early in the year to seriously go there.\n",
      "\n",
      "An even bigger surprise was the actor playing George Knightley. Johnny Flynn has been in a number of TV shows I haven't seen, and a few films I haven't seen either (e.g. \"Beast\"). But I had the nagging feeling I knew him really well. The illustrious Mrs Movie Man clocked him: he's the Cineworld \"plaid man\"! (For those outside the UK or not patrons of Cineworld cinemas, he was the 'star' of a Cineworld advert that played over and Over AND OVER again for months on end before every film I saw. Arrrgggghhhh!).\n",
      "\n",
      "Here, Flynn is excellent as the frustrated and brooding Austen-hunk. He even gets away with an ar*e-shot within a U-certificate!\n",
      "\n",
      "Particularly strong in the supporting cast are Bill Nighy (being delightfully more restrained in his performance); Miranda Hart (being \"Miranda\", but perfectly cast) and Mia Goth (memorable for that eel-bath in \"A Cure for Wellness\").\n",
      "\n",
      "And a big thank-you for a web review in the online Radio Times for naming one of the comical (and bizarrely uncredited) footmen as Angus Imrie - - the truly disturbed stepson of Claire in \"Fleabag\". It was driving me crazy where I knew him from!\n",
      "\n",
      "The one criticism I would have is that I found the (perfectly fine and well-fitting) music, by David Schweitzer and Isobel Waller-Bridge (sister of Phoebe) poorly mixed within the soundtrack. There were times when I found it overly intrusive, suddenly ducking under dialogue and then BLASTING out again. Sometimes music should be at the forefront.... but more often it should be barely perceptible.\n",
      "\n",
      "As you might guess.... ...I loved this one. The story is brilliant (obsv!); the film is simply gorgeous to look at; the locations (including the village of Lower Slaughter in the Cotswolds and Wilton House - near me - in Salisbury) are magnificent and a blessing for the English Tourist Board.\n",
      "\n",
      "All the more impressive then that this is the directorial feature of video/short director Autumn de Wilde.\n",
      "\n",
      "This comes with a \"highly recommended\" from both myself and the illustrious Mrs Movie-Man.\n",
      "\n",
      "(For the full graphical review, please check out One Mann's Movies on Facebook or the web.)\n",
      "The only memorable elements in this film Are the sets, the cinematography, and the recurring Images of Ms Goddards school girls. The rest is like watching paint dry. It moves way too slow. It's uneven. Is it comic ? It's more straight with Comic accents in all the wrong places. That is the impression it left me with. Yes, I felt the Novel prose was overwhelmingly misunderstood , given this screenplay. For this to really work you must like Emma and Mr. Knightley. I didn't I didn't care about either. Total waste of Bill Night's talent as well. ( I hope he got paid well) It's ultimately a forgettable version. The 1996 film still does the better job of hitting all the bullet points while keeping even pacing and consistent blending of spirit of the novel with playful creative liberties. I think this 2020 adaption will bore those not familiar with Jane Austen's works , and divide those that are familiar.\n",
      "5 out of 5 found this helpful. Was this review helpful? Sign in to vote.\n",
      "Permalink\n",
      "I have previously seen three TV versions of Emma, and the 1990s Hollywood film with Gwyneth Paltrow - which I find excessively sentimental. Emma is not my favourite Austen novel, but the adaptation used for the 2020 film version is generally very good. One or two specifics are omitted, but this is inevitable in compression to the running time of just over two hours.\n",
      "\n",
      "As all reviews have noted, the film is beautifully designed and shot. Some of the design may even be thought to be over the top, but I thought that was consonant with the mannered approach of the cast, an approach which works well in making this essentially a comedy of manners as well as a love story. The detective story element of the novel doesn't go for very much - little is made of the piano, and Frank Churchill's slip in knowing about Dr Perry's carriage is omitted.\n",
      "\n",
      "I thought Mia Goth's well-rounded performance of Harriet the best I have seen, and it is certainly difficult to take one's eyes off Anya Taylor-Joy in the titular lead. Other female performances are perhaps more so-so, although Chloe Pirie's harassed Isabella is interesting. The comedic Mr Elton would be well over the top in some adaptations but just about fits in here. Other male roles are adequately filled even though the portrayal of john Knightly is slightly bizarre. Bill Nighy is...well, Bill Nighy, this time with amazing costume.\n",
      "\n",
      "I enjoyed it, and I intend to see it again soon. Overall I would just favour the 1996 Kate Beckinsale ITV version but this is close behind and in some ways better\n",
      "First of all, let me start by saying that I enjoy pretty much every Austen adaptation - this was no exception. Second of all, let's draw the comparison between a movie and cake. I came into this movie knowing full well what type of cake I both wanted and expected it to be and was not disappointed.\n",
      "\n",
      "Story: The same story we know and love - no unexpected twists or new storytelling methods (like the timeline changeup of the new Little Women). I wanted a delightful butter cake and that's exactly what I got - no wild new flavour combinations. It's a delightlfully fun, occasionally ridiculous, romp. I did enjoy the little extra Mr Nightly affection we get to see in the version - makes the romance feel a little less sudden.\n",
      "\n",
      "Visual: If it were a cake, 'Emma' would be the most repinned, insta-worthy new buttercream cake on the block. Every single scene was shot absolutely beautifully and with so much attention to detail. The soft colours and pretty scenery make every shot look like what we all wish our wedding photos came out like. They play up a bit more of the Woodhouse/Knightly wealth and there is some sumptuous decore to enjoy.\n",
      "\n",
      "Acting: I'm a Miranda Hart fan and I'm glad to say she did not disappoint. She brought the perfect mix of 'ridiculous' and 'sweet/pitiable' to Miss Bates. The rest of the cast did a very solid job and of course Bill Nighy is always a great addition to any ensemble. If the cast is the structural integrity of the cake, this cake isn't going to flop.\n",
      "\n",
      "All in all, I'd say it's exactly as it should be.\n",
      "I have a keen historical interest in the Regency period and I could find no fault in this spectacular recreation of the time and place. The photography drew me intimately into the action, the costumes male and female were gorgeous, the hats outrageous and straight out of Gillray and Rowlandson cartoons. Despite knowing the book and numerous screen depictions, I am sure I have never before laughed so openly or so frequently, at the sublime visual reactions of all cast members to telling points in the dialogue. As an example, Emma's face when Jane starts to play is an absolute picture. I sat through this very familiar tale with bated breath in anticipation of this ingenious and refreshing treatment of the development of the action. It would be unfair to single out individuals - a superb team effort.\n",
      "42 out of 64 found this helpful. Was this review helpful? Sign in to vote.\n",
      "Permalink\n",
      "Fun, stylistic, and is basically everything I wanted from the film. The color palette was absolutely gorgeous. I really enjoyed this film and I think any audience member will If they are into period pieces\n",
      "34 out of 53 found this helpful. Was this review helpful? Sign in to vote.\n",
      "Permalink\n",
      "This is by far the weirdest version of Emma I have ever seen. I love the book and am a huge fan of the 1996 (Paltrow) and 2009 (Garai) movie versions, but this 2020 version is just bizarre! Emma is supposed to be about transformation. A beautiful, spoiled girl becoming a loving and caring woman. This Emma was spoiled and rude the entire file and didn't change at all. Mr. Knightley is one of my favorite literary heroes, but this version didn't showcase any of his (or Emma's) good qualities. There wasn't anything likable about any of the main characters (Mr. Woodhouse being the only exception). \"Badly done, Emma! Badly done indeed.\"\n",
      "10 out of 13 found this helpful. Was this review helpful? Sign in to vote.\n",
      "Permalink\n",
      "Not really sure why we need another film adaption of this novel when they're already a few better versions out there. The acting was awkward and stiff, it felt like a play where the actors were still getting used to their lines or acting as if they were performing in a Pantomine.\n",
      "\n",
      "It does look stunning but like many beautiful things in life lacked any substance, character or depth. It's wonderful to watch for its costume design, sets and location shots but falls over everywhere else. #Emma #focusfeatures #emma2020 #emmathemovie2020\n",
      "43 out of 70 found this helpful. Was this review helpful? Sign in to vote.\n",
      "Permalink\n",
      "\n",
      "Not funny at all, most characters are dull, unlikable, or boring. There was very little dialogue that it could have been a silent movie. The music and costuming was excellent. I did like Bill Nighy as Mr. Woodhouse.\n",
      "9 out of 12 found this helpful. Was this review helpful? Sign in to vote.\n",
      "Permalink\n",
      "This movie is beautiful to look at. The shots of the English countryside, the beautiful homes, the costumes. Some of the actors are even even easy on the eyes, especially Anya Taylor-Joy, the Emma, who is also a fine actress, and really creates a character.\n",
      "\n",
      "And then there is the plot, such as it is, and the dialogue, which may come directly from Austin's novel. I don't know. Nor do I care. It's supposed to be clever. To me, it was just flat. Perhaps it was the dialogue itself, perhaps it was the way it was delivered.\n",
      "\n",
      "Go back and watch the Pride and Prejudice from 1940, with Greer Garson et al., directed by Robert Z. Leonard, with a script by Aldous Huxley. That's brilliant. I've watched it I don't know how many times, and it still holds me.\n",
      "\n",
      "This movie, on the other hand, had me begging for it to be over. I just did not care about any of the characters. Except the husband of the other daughter, Emma's brother-in-law. He suffered mightily, so I understood him.\n",
      "I loved the clothes and the setting. Both stunning. Acting awful. Whoever did casting needs to retire and not faithful to the book at all. If it was supposed to be a comedy it failed! What the hell was the nosebleed for. Watch the bbc versions and the Gwyneth Paltrow version. Both much much better\n",
      "9 out of 12 found this helpful. Was this review helpful? Sign in to vote.\n",
      "Permalink\n",
      "This film will cure your insomnia and send you to sleep within 30 minutes, was very slow and acting felt like they were performing a pantomime\n",
      "13 out of 19 found this helpful. Was this review helpful? Sign in to vote.\n",
      "Permalink\n",
      "Of course, we all love the Mr. Knightleys and Mr. Darcys that Jane Austen has brought into feminine romance. Stick to the versions from the 1990's, if you want to keep some romance in your imagination intact.\n",
      "\n",
      "This new version is absolutely bad. What starts out as a maybe-funny movie, quickly turns into feeling like sitting in the audience of a cheap opera. Too much is staged (moving of figures, music). They must have put a lot of money in the scene prop and general production design. Instead of kicking the screenplay writers in the butte to come up with a more vivid plot adaption. The main actress (what is wrong with her posture and neck?) ruins the whole film. She is just no person to identify with, trying the hardest being somewhat romantic. Additionally, almost all scenes filmed outside are terrible in lighting or fail to communicate they season they are meant to represent. The ones filmed inside, however, are heavily overloaded and overcomposed. One good thing: the cast (apart from the lead) was pretty well chosen. Thanks to Bill Nighy as Emmas's father, who constantly displays an air of self-irony throughout the whole film, I did not leave prior to the movie's end. And all the other antagonists were well cast, too. Save yourself time and money and stick to your own imagination. Read the book, or grab the copy on DVD with Gwyneth Paltrow. I really hated that movie (it was a sneak preview and many people left long before the film ended).\n",
      "An average story played out badly at an interminably slow pace. Unfathomable screenplay. Claustrophobic interiors. Un-engaging exteriors. Anya Taylor-Joy was not an Emma and was unwatchable. Bill Nighy was Bill Nighy (snort, twitch head, twitch shoulder, sideways look), Miranda Hart was Miranda Hart (manic laugh, silly voice, sillier walk). This is not a comedy. There wasn't a single funny moment, witness the well attended cinema with an apparently broad demographic barely raising a smile throughout. (It was more interesting watching them than the film). I want to forget this ever happened!\n",
      "10 out of 14 found this helpful. Was this review helpful? Sign in to vote.\n",
      "Permalink\n",
      "\n",
      "Took too long to get started and once it did it consisted of Anya Joy Taylor mugging and looking at the camera desperately seeking to be the new it girl. Fail. I loved the book and the nuance of the mini series. But it feels like the director, whom I shall never watch again was trying to combine Sofia \"Got to make a movie because my daddy is famous\" Coppolas awful Marie Antoinette with Baz \"Hey I add modern music to every period film I do because it worked once\" Luhrmans garbage fire Moulin Rouge. Give this a pass.\n",
      "20 out of 33 found this helpful. Was this review helpful? Sign in to vote.\n",
      "Permalink\n",
      "Visually beautiful...but empty of soul....really dreadful...Emma (the lead) was particularly awful....save your time/money--see other versions..this one was torture to sit through\n",
      "8 out of 11 found this helpful. Was this review helpful? Sign in to vote.\n",
      "Permalink\n"
     ]
    }
   ],
   "source": [
    "review = []\n",
    "review_f = driver.find_elements_by_class_name(\"content\")\n",
    "for post in review_f:\n",
    "    review.append(post.text)\n",
    "    print(post.text)"
   ]
  },
  {
   "cell_type": "code",
   "execution_count": 7,
   "metadata": {},
   "outputs": [],
   "source": [
    "data_tuples = list(zip(review_title,review))"
   ]
  },
  {
   "cell_type": "code",
   "execution_count": 8,
   "metadata": {},
   "outputs": [
    {
     "data": {
      "text/html": [
       "<div>\n",
       "<style scoped>\n",
       "    .dataframe tbody tr th:only-of-type {\n",
       "        vertical-align: middle;\n",
       "    }\n",
       "\n",
       "    .dataframe tbody tr th {\n",
       "        vertical-align: top;\n",
       "    }\n",
       "\n",
       "    .dataframe thead th {\n",
       "        text-align: right;\n",
       "    }\n",
       "</style>\n",
       "<table border=\"1\" class=\"dataframe\">\n",
       "  <thead>\n",
       "    <tr style=\"text-align: right;\">\n",
       "      <th></th>\n",
       "      <th>review_title</th>\n",
       "      <th>review</th>\n",
       "    </tr>\n",
       "  </thead>\n",
       "  <tbody>\n",
       "    <tr>\n",
       "      <th>0</th>\n",
       "      <td>All bonnet and no breeches</td>\n",
       "      <td>Autumn de Wilde's Emma, with Anya Taylor-Joy a...</td>\n",
       "    </tr>\n",
       "    <tr>\n",
       "      <th>1</th>\n",
       "      <td>As someone who read the book, I thought this w...</td>\n",
       "      <td>Yes, to prepare myself for this film I read th...</td>\n",
       "    </tr>\n",
       "    <tr>\n",
       "      <th>2</th>\n",
       "      <td>Beautiful to look at, but shallow</td>\n",
       "      <td>It looks gorgeous - fashions, interiors, etc -...</td>\n",
       "    </tr>\n",
       "    <tr>\n",
       "      <th>3</th>\n",
       "      <td>Deeply disappointing</td>\n",
       "      <td>Emma is one of my favorite Jane Austin novels....</td>\n",
       "    </tr>\n",
       "    <tr>\n",
       "      <th>4</th>\n",
       "      <td>Can't get the basics right</td>\n",
       "      <td>Some fatal attraction means I must watch new J...</td>\n",
       "    </tr>\n",
       "  </tbody>\n",
       "</table>\n",
       "</div>"
      ],
      "text/plain": [
       "                                        review_title  \\\n",
       "0                         All bonnet and no breeches   \n",
       "1  As someone who read the book, I thought this w...   \n",
       "2                  Beautiful to look at, but shallow   \n",
       "3                               Deeply disappointing   \n",
       "4                         Can't get the basics right   \n",
       "\n",
       "                                           review \\n  \n",
       "0  Autumn de Wilde's Emma, with Anya Taylor-Joy a...  \n",
       "1  Yes, to prepare myself for this film I read th...  \n",
       "2  It looks gorgeous - fashions, interiors, etc -...  \n",
       "3  Emma is one of my favorite Jane Austin novels....  \n",
       "4  Some fatal attraction means I must watch new J...  "
      ]
     },
     "execution_count": 8,
     "metadata": {},
     "output_type": "execute_result"
    }
   ],
   "source": [
    "df = pd.DataFrame(data_tuples,columns = ['review_title' ,'review \\n'])\n",
    "\n",
    "df.head()"
   ]
  },
  {
   "cell_type": "code",
   "execution_count": 10,
   "metadata": {},
   "outputs": [],
   "source": [
    "df['movie_name']  = 'Emma. (2020)'"
   ]
  },
  {
   "cell_type": "code",
   "execution_count": 11,
   "metadata": {},
   "outputs": [
    {
     "data": {
      "text/html": [
       "<div>\n",
       "<style scoped>\n",
       "    .dataframe tbody tr th:only-of-type {\n",
       "        vertical-align: middle;\n",
       "    }\n",
       "\n",
       "    .dataframe tbody tr th {\n",
       "        vertical-align: top;\n",
       "    }\n",
       "\n",
       "    .dataframe thead th {\n",
       "        text-align: right;\n",
       "    }\n",
       "</style>\n",
       "<table border=\"1\" class=\"dataframe\">\n",
       "  <thead>\n",
       "    <tr style=\"text-align: right;\">\n",
       "      <th></th>\n",
       "      <th>review_title</th>\n",
       "      <th>review</th>\n",
       "      <th>movie_name</th>\n",
       "    </tr>\n",
       "  </thead>\n",
       "  <tbody>\n",
       "    <tr>\n",
       "      <th>0</th>\n",
       "      <td>All bonnet and no breeches</td>\n",
       "      <td>Autumn de Wilde's Emma, with Anya Taylor-Joy a...</td>\n",
       "      <td>Emma. (2020)</td>\n",
       "    </tr>\n",
       "    <tr>\n",
       "      <th>1</th>\n",
       "      <td>As someone who read the book, I thought this w...</td>\n",
       "      <td>Yes, to prepare myself for this film I read th...</td>\n",
       "      <td>Emma. (2020)</td>\n",
       "    </tr>\n",
       "    <tr>\n",
       "      <th>2</th>\n",
       "      <td>Beautiful to look at, but shallow</td>\n",
       "      <td>It looks gorgeous - fashions, interiors, etc -...</td>\n",
       "      <td>Emma. (2020)</td>\n",
       "    </tr>\n",
       "    <tr>\n",
       "      <th>3</th>\n",
       "      <td>Deeply disappointing</td>\n",
       "      <td>Emma is one of my favorite Jane Austin novels....</td>\n",
       "      <td>Emma. (2020)</td>\n",
       "    </tr>\n",
       "    <tr>\n",
       "      <th>4</th>\n",
       "      <td>Can't get the basics right</td>\n",
       "      <td>Some fatal attraction means I must watch new J...</td>\n",
       "      <td>Emma. (2020)</td>\n",
       "    </tr>\n",
       "  </tbody>\n",
       "</table>\n",
       "</div>"
      ],
      "text/plain": [
       "                                        review_title  \\\n",
       "0                         All bonnet and no breeches   \n",
       "1  As someone who read the book, I thought this w...   \n",
       "2                  Beautiful to look at, but shallow   \n",
       "3                               Deeply disappointing   \n",
       "4                         Can't get the basics right   \n",
       "\n",
       "                                           review \\n    movie_name  \n",
       "0  Autumn de Wilde's Emma, with Anya Taylor-Joy a...  Emma. (2020)  \n",
       "1  Yes, to prepare myself for this film I read th...  Emma. (2020)  \n",
       "2  It looks gorgeous - fashions, interiors, etc -...  Emma. (2020)  \n",
       "3  Emma is one of my favorite Jane Austin novels....  Emma. (2020)  \n",
       "4  Some fatal attraction means I must watch new J...  Emma. (2020)  "
      ]
     },
     "execution_count": 11,
     "metadata": {},
     "output_type": "execute_result"
    }
   ],
   "source": [
    "df.head()"
   ]
  },
  {
   "cell_type": "code",
   "execution_count": 13,
   "metadata": {},
   "outputs": [],
   "source": [
    "df.to_csv('IMBD_most_popular_movies.csv', mode='a', header=False)"
   ]
  },
  {
   "cell_type": "code",
   "execution_count": null,
   "metadata": {},
   "outputs": [],
   "source": []
  }
 ],
 "metadata": {
  "kernelspec": {
   "display_name": "Python 3",
   "language": "python",
   "name": "python3"
  },
  "language_info": {
   "codemirror_mode": {
    "name": "ipython",
    "version": 3
   },
   "file_extension": ".py",
   "mimetype": "text/x-python",
   "name": "python",
   "nbconvert_exporter": "python",
   "pygments_lexer": "ipython3",
   "version": "3.7.3"
  }
 },
 "nbformat": 4,
 "nbformat_minor": 2
}
